{
 "cells": [
  {
   "cell_type": "markdown",
   "source": [
    "# YData Quality - Labelling (Categorical) Tutorial\n",
    "Time-to-Value: 4 minutes\n",
    "\n",
    "This notebook provides a tutorial for the ydata_quality package funcionality for categorical labels.\n",
    "\n",
    "**Structure:**\n",
    "\n",
    "1. Load dataset\n",
    "2. Corrupt the dataset\n",
    "2. Instantiate the Data Quality engine\n",
    "3. Run the quality checks\n",
    "4. Assess the warnings\n",
    "5. (Extra) Detailed overview"
   ],
   "metadata": {}
  },
  {
   "cell_type": "code",
   "execution_count": 1,
   "source": [
    "# Update the imports\n",
    "import statsmodels.api as sm\n",
    "from ydata_quality.labelling import LabelInspector"
   ],
   "outputs": [],
   "metadata": {}
  },
  {
   "cell_type": "markdown",
   "source": [
    "## Load the example dataset\n",
    "We will use a dataset available from the statsmodels package."
   ],
   "metadata": {}
  },
  {
   "cell_type": "code",
   "execution_count": 2,
   "source": [
    "df = sm.datasets.get_rdataset('Guerry', 'HistData').data"
   ],
   "outputs": [],
   "metadata": {}
  },
  {
   "cell_type": "code",
   "execution_count": 3,
   "source": [
    "df.head()"
   ],
   "outputs": [
    {
     "output_type": "execute_result",
     "data": {
      "text/plain": [
       "   dept Region    Department  Crime_pers  Crime_prop  Literacy  Donations  \\\n",
       "0     1      E           Ain       28870       15890        37       5098   \n",
       "1     2      N         Aisne       26226        5521        51       8901   \n",
       "2     3      C        Allier       26747        7925        13      10973   \n",
       "3     4      E  Basses-Alpes       12935        7289        46       2733   \n",
       "4     5      E  Hautes-Alpes       17488        8174        69       6962   \n",
       "\n",
       "   Infants  Suicides MainCity  ...  Crime_parents  Infanticide  \\\n",
       "0    33120     35039    2:Med  ...             71           60   \n",
       "1    14572     12831    2:Med  ...              4           82   \n",
       "2    17044    114121    2:Med  ...             46           42   \n",
       "3    23018     14238     1:Sm  ...             70           12   \n",
       "4    23076     16171     1:Sm  ...             22           23   \n",
       "\n",
       "   Donation_clergy  Lottery  Desertion  Instruction  Prostitutes  Distance  \\\n",
       "0               69       41         55           46           13   218.372   \n",
       "1               36       38         82           24          327    65.945   \n",
       "2               76       66         16           85           34   161.927   \n",
       "3               37       80         32           29            2   351.399   \n",
       "4               64       79         35            7            1   320.280   \n",
       "\n",
       "   Area  Pop1831  \n",
       "0  5762   346.03  \n",
       "1  7369   513.00  \n",
       "2  7340   298.26  \n",
       "3  6925   155.90  \n",
       "4  5549   129.10  \n",
       "\n",
       "[5 rows x 23 columns]"
      ],
      "text/html": [
       "<div>\n",
       "<style scoped>\n",
       "    .dataframe tbody tr th:only-of-type {\n",
       "        vertical-align: middle;\n",
       "    }\n",
       "\n",
       "    .dataframe tbody tr th {\n",
       "        vertical-align: top;\n",
       "    }\n",
       "\n",
       "    .dataframe thead th {\n",
       "        text-align: right;\n",
       "    }\n",
       "</style>\n",
       "<table border=\"1\" class=\"dataframe\">\n",
       "  <thead>\n",
       "    <tr style=\"text-align: right;\">\n",
       "      <th></th>\n",
       "      <th>dept</th>\n",
       "      <th>Region</th>\n",
       "      <th>Department</th>\n",
       "      <th>Crime_pers</th>\n",
       "      <th>Crime_prop</th>\n",
       "      <th>Literacy</th>\n",
       "      <th>Donations</th>\n",
       "      <th>Infants</th>\n",
       "      <th>Suicides</th>\n",
       "      <th>MainCity</th>\n",
       "      <th>...</th>\n",
       "      <th>Crime_parents</th>\n",
       "      <th>Infanticide</th>\n",
       "      <th>Donation_clergy</th>\n",
       "      <th>Lottery</th>\n",
       "      <th>Desertion</th>\n",
       "      <th>Instruction</th>\n",
       "      <th>Prostitutes</th>\n",
       "      <th>Distance</th>\n",
       "      <th>Area</th>\n",
       "      <th>Pop1831</th>\n",
       "    </tr>\n",
       "  </thead>\n",
       "  <tbody>\n",
       "    <tr>\n",
       "      <th>0</th>\n",
       "      <td>1</td>\n",
       "      <td>E</td>\n",
       "      <td>Ain</td>\n",
       "      <td>28870</td>\n",
       "      <td>15890</td>\n",
       "      <td>37</td>\n",
       "      <td>5098</td>\n",
       "      <td>33120</td>\n",
       "      <td>35039</td>\n",
       "      <td>2:Med</td>\n",
       "      <td>...</td>\n",
       "      <td>71</td>\n",
       "      <td>60</td>\n",
       "      <td>69</td>\n",
       "      <td>41</td>\n",
       "      <td>55</td>\n",
       "      <td>46</td>\n",
       "      <td>13</td>\n",
       "      <td>218.372</td>\n",
       "      <td>5762</td>\n",
       "      <td>346.03</td>\n",
       "    </tr>\n",
       "    <tr>\n",
       "      <th>1</th>\n",
       "      <td>2</td>\n",
       "      <td>N</td>\n",
       "      <td>Aisne</td>\n",
       "      <td>26226</td>\n",
       "      <td>5521</td>\n",
       "      <td>51</td>\n",
       "      <td>8901</td>\n",
       "      <td>14572</td>\n",
       "      <td>12831</td>\n",
       "      <td>2:Med</td>\n",
       "      <td>...</td>\n",
       "      <td>4</td>\n",
       "      <td>82</td>\n",
       "      <td>36</td>\n",
       "      <td>38</td>\n",
       "      <td>82</td>\n",
       "      <td>24</td>\n",
       "      <td>327</td>\n",
       "      <td>65.945</td>\n",
       "      <td>7369</td>\n",
       "      <td>513.00</td>\n",
       "    </tr>\n",
       "    <tr>\n",
       "      <th>2</th>\n",
       "      <td>3</td>\n",
       "      <td>C</td>\n",
       "      <td>Allier</td>\n",
       "      <td>26747</td>\n",
       "      <td>7925</td>\n",
       "      <td>13</td>\n",
       "      <td>10973</td>\n",
       "      <td>17044</td>\n",
       "      <td>114121</td>\n",
       "      <td>2:Med</td>\n",
       "      <td>...</td>\n",
       "      <td>46</td>\n",
       "      <td>42</td>\n",
       "      <td>76</td>\n",
       "      <td>66</td>\n",
       "      <td>16</td>\n",
       "      <td>85</td>\n",
       "      <td>34</td>\n",
       "      <td>161.927</td>\n",
       "      <td>7340</td>\n",
       "      <td>298.26</td>\n",
       "    </tr>\n",
       "    <tr>\n",
       "      <th>3</th>\n",
       "      <td>4</td>\n",
       "      <td>E</td>\n",
       "      <td>Basses-Alpes</td>\n",
       "      <td>12935</td>\n",
       "      <td>7289</td>\n",
       "      <td>46</td>\n",
       "      <td>2733</td>\n",
       "      <td>23018</td>\n",
       "      <td>14238</td>\n",
       "      <td>1:Sm</td>\n",
       "      <td>...</td>\n",
       "      <td>70</td>\n",
       "      <td>12</td>\n",
       "      <td>37</td>\n",
       "      <td>80</td>\n",
       "      <td>32</td>\n",
       "      <td>29</td>\n",
       "      <td>2</td>\n",
       "      <td>351.399</td>\n",
       "      <td>6925</td>\n",
       "      <td>155.90</td>\n",
       "    </tr>\n",
       "    <tr>\n",
       "      <th>4</th>\n",
       "      <td>5</td>\n",
       "      <td>E</td>\n",
       "      <td>Hautes-Alpes</td>\n",
       "      <td>17488</td>\n",
       "      <td>8174</td>\n",
       "      <td>69</td>\n",
       "      <td>6962</td>\n",
       "      <td>23076</td>\n",
       "      <td>16171</td>\n",
       "      <td>1:Sm</td>\n",
       "      <td>...</td>\n",
       "      <td>22</td>\n",
       "      <td>23</td>\n",
       "      <td>64</td>\n",
       "      <td>79</td>\n",
       "      <td>35</td>\n",
       "      <td>7</td>\n",
       "      <td>1</td>\n",
       "      <td>320.280</td>\n",
       "      <td>5549</td>\n",
       "      <td>129.10</td>\n",
       "    </tr>\n",
       "  </tbody>\n",
       "</table>\n",
       "<p>5 rows × 23 columns</p>\n",
       "</div>"
      ]
     },
     "metadata": {},
     "execution_count": 3
    }
   ],
   "metadata": {}
  },
  {
   "cell_type": "markdown",
   "source": [
    "## Corrupt the dataset\n",
    "Records without label and single record labels are added to the dataset."
   ],
   "metadata": {}
  },
  {
   "cell_type": "code",
   "execution_count": 4,
   "source": [
    "label = 'MainCity'\n",
    "\n",
    "df.loc[0, label] = None\n",
    "df.loc[1, label] = 'A lonesome label'"
   ],
   "outputs": [],
   "metadata": {}
  },
  {
   "cell_type": "markdown",
   "source": [
    "## Create the engine\n",
    "Each engine contains the checks and tests for each suite. To create a Label Inspector, you provide:\n",
    "- df: target DataFrame, for which we will run the test suite\n",
    "- label: name of the column to be used as label, in this case it points to a categorical label!"
   ],
   "metadata": {}
  },
  {
   "cell_type": "code",
   "execution_count": 5,
   "source": [
    "li = LabelInspector(df=df, label='MainCity')"
   ],
   "outputs": [],
   "metadata": {}
  },
  {
   "cell_type": "markdown",
   "source": [
    "### Full Evaluation\n",
    "The easiest way to assess the data quality analysis is to run `.evaluate()` which returns a list of warnings for each quality check. "
   ],
   "metadata": {}
  },
  {
   "cell_type": "code",
   "execution_count": 6,
   "source": [
    "results = li.evaluate()"
   ],
   "outputs": [],
   "metadata": {}
  },
  {
   "cell_type": "markdown",
   "source": [
    "## Check the status\n",
    "After running the data quality checks, you can check the warnings for each individual test. The warnings are a dictionary of {test: result}."
   ],
   "metadata": {}
  },
  {
   "cell_type": "code",
   "execution_count": 7,
   "source": [
    "li.report()"
   ],
   "outputs": [
    {
     "output_type": "stream",
     "name": "stdout",
     "text": [
      "Warnings count by priority:\n",
      "\tPriority 1: 1 warning(s)\n",
      "\tPriority 2: 4 warning(s)\n",
      "\tTOTAL: 5 warning(s)\n",
      "List of warnings sorted by priority:\n",
      "\t[MISSING LABELS] Found 1 instances with missing labels. (Priority 1: heavy impact expected)\n",
      "\t[ONE VS REST PERFORMANCE] Classes {'2:Med', '3:Lg'} performed under the 61.8% AUROC threshold. The threshold was defined as an average of all classifiers with 0% slack. (Priority 2: usage allowed, limited human intelligibility)\n",
      "\t[UNBALANCED CLASSES] Classes {'A lonesome label'} are under-represented each having less than 10.0% of total instances. Classes {'2:Med'} are over-represented each having more than 40.0% of total instances (Priority 2: usage allowed, limited human intelligibility)\n",
      "\t[FEW LABELS] Found 1 labels with 1 or less records. (Priority 2: usage allowed, limited human intelligibility)\n",
      "\t[OUTLIER DETECTION] Found 74 potential outliers across 3 classes. A distance bigger than 3 standard deviations of intra-cluster distances to the respective centroids was used to define the potential outliers. (Priority 2: usage allowed, limited human intelligibility)\n"
     ]
    }
   ],
   "metadata": {}
  },
  {
   "cell_type": "markdown",
   "source": [
    "### Quality Warning"
   ],
   "metadata": {}
  },
  {
   "cell_type": "code",
   "execution_count": 8,
   "source": [
    "# Get a sample warning\n",
    "sample_warning = li.warnings[2]"
   ],
   "outputs": [],
   "metadata": {}
  },
  {
   "cell_type": "code",
   "execution_count": 9,
   "source": [
    "# Check the details\n",
    "sample_warning.test, sample_warning.description, sample_warning.priority"
   ],
   "outputs": [
    {
     "output_type": "execute_result",
     "data": {
      "text/plain": [
       "('Unbalanced Classes',\n",
       " \"Classes {'A lonesome label'} are under-represented each having less than 10.0% of total instances. Classes {'2:Med'} are over-represented each having more than 40.0% of total instances\",\n",
       " <Priority.P2: 2>)"
      ]
     },
     "metadata": {},
     "execution_count": 9
    }
   ],
   "metadata": {}
  },
  {
   "cell_type": "code",
   "execution_count": 10,
   "source": [
    "# Retrieve the relevant data from the warning\n",
    "sample_warning_data = sample_warning.data"
   ],
   "outputs": [],
   "metadata": {}
  },
  {
   "cell_type": "markdown",
   "source": [
    "## Full Test Suite\n",
    "In this section, you will find a detailed overview of the available tests in the labelling module of ydata_quality."
   ],
   "metadata": {}
  },
  {
   "cell_type": "markdown",
   "source": [
    "### Missing Labels\n",
    "\n",
    "Return records with a missing label."
   ],
   "metadata": {}
  },
  {
   "cell_type": "code",
   "execution_count": 11,
   "source": [
    "li.missing_labels()"
   ],
   "outputs": [
    {
     "output_type": "execute_result",
     "data": {
      "text/plain": [
       "   dept Region Department  Crime_pers  Crime_prop  Literacy  Donations  \\\n",
       "0     1      E        Ain       28870       15890        37       5098   \n",
       "\n",
       "   Infants  Suicides MainCity  ...  Crime_parents  Infanticide  \\\n",
       "0    33120     35039     None  ...             71           60   \n",
       "\n",
       "   Donation_clergy  Lottery  Desertion  Instruction  Prostitutes  Distance  \\\n",
       "0               69       41         55           46           13   218.372   \n",
       "\n",
       "   Area  Pop1831  \n",
       "0  5762   346.03  \n",
       "\n",
       "[1 rows x 23 columns]"
      ],
      "text/html": [
       "<div>\n",
       "<style scoped>\n",
       "    .dataframe tbody tr th:only-of-type {\n",
       "        vertical-align: middle;\n",
       "    }\n",
       "\n",
       "    .dataframe tbody tr th {\n",
       "        vertical-align: top;\n",
       "    }\n",
       "\n",
       "    .dataframe thead th {\n",
       "        text-align: right;\n",
       "    }\n",
       "</style>\n",
       "<table border=\"1\" class=\"dataframe\">\n",
       "  <thead>\n",
       "    <tr style=\"text-align: right;\">\n",
       "      <th></th>\n",
       "      <th>dept</th>\n",
       "      <th>Region</th>\n",
       "      <th>Department</th>\n",
       "      <th>Crime_pers</th>\n",
       "      <th>Crime_prop</th>\n",
       "      <th>Literacy</th>\n",
       "      <th>Donations</th>\n",
       "      <th>Infants</th>\n",
       "      <th>Suicides</th>\n",
       "      <th>MainCity</th>\n",
       "      <th>...</th>\n",
       "      <th>Crime_parents</th>\n",
       "      <th>Infanticide</th>\n",
       "      <th>Donation_clergy</th>\n",
       "      <th>Lottery</th>\n",
       "      <th>Desertion</th>\n",
       "      <th>Instruction</th>\n",
       "      <th>Prostitutes</th>\n",
       "      <th>Distance</th>\n",
       "      <th>Area</th>\n",
       "      <th>Pop1831</th>\n",
       "    </tr>\n",
       "  </thead>\n",
       "  <tbody>\n",
       "    <tr>\n",
       "      <th>0</th>\n",
       "      <td>1</td>\n",
       "      <td>E</td>\n",
       "      <td>Ain</td>\n",
       "      <td>28870</td>\n",
       "      <td>15890</td>\n",
       "      <td>37</td>\n",
       "      <td>5098</td>\n",
       "      <td>33120</td>\n",
       "      <td>35039</td>\n",
       "      <td>None</td>\n",
       "      <td>...</td>\n",
       "      <td>71</td>\n",
       "      <td>60</td>\n",
       "      <td>69</td>\n",
       "      <td>41</td>\n",
       "      <td>55</td>\n",
       "      <td>46</td>\n",
       "      <td>13</td>\n",
       "      <td>218.372</td>\n",
       "      <td>5762</td>\n",
       "      <td>346.03</td>\n",
       "    </tr>\n",
       "  </tbody>\n",
       "</table>\n",
       "<p>1 rows × 23 columns</p>\n",
       "</div>"
      ]
     },
     "metadata": {},
     "execution_count": 11
    }
   ],
   "metadata": {}
  },
  {
   "cell_type": "markdown",
   "source": [
    "### Few Labels\n",
    "\n",
    "Find label classes with few records (less than a threshold, defaults to 1)."
   ],
   "metadata": {}
  },
  {
   "cell_type": "code",
   "execution_count": 12,
   "source": [
    "li.few_labels()"
   ],
   "outputs": [
    {
     "output_type": "execute_result",
     "data": {
      "text/plain": [
       "A lonesome label    1\n",
       "Name: Label counts, dtype: int64"
      ]
     },
     "metadata": {},
     "execution_count": 12
    }
   ],
   "metadata": {}
  },
  {
   "cell_type": "markdown",
   "source": [
    "### One vs Rest Performance\n",
    "\n",
    "Obtain a One vs Rest summary of performance across all label classes. Store a warning for all classes with performance below an implied threshold."
   ],
   "metadata": {}
  },
  {
   "cell_type": "code",
   "execution_count": 13,
   "source": [
    "li.one_vs_rest_performance(slack=0.1)"
   ],
   "outputs": [
    {
     "output_type": "execute_result",
     "data": {
      "text/plain": [
       "2:Med    0.614286\n",
       "1:Sm     0.660000\n",
       "3:Lg     0.596591\n",
       "dtype: float64"
      ]
     },
     "metadata": {},
     "execution_count": 13
    }
   ],
   "metadata": {}
  },
  {
   "cell_type": "markdown",
   "source": [
    "### Unbalanced Classes\n",
    "\n",
    "Get a list of all classes with excess or deficit of representativity in the dataset. Unbalancement thresholds are implicitly defined through a slack parameter attending to a fair (homogeneous) distribution of records per class."
   ],
   "metadata": {}
  },
  {
   "cell_type": "code",
   "execution_count": 14,
   "source": [
    "li.unbalanced_classes(slack=0.3)"
   ],
   "outputs": [
    {
     "output_type": "execute_result",
     "data": {
      "text/plain": [
       "Index(['2:Med', 'A lonesome label'], dtype='object')"
      ]
     },
     "metadata": {},
     "execution_count": 14
    }
   ],
   "metadata": {}
  },
  {
   "cell_type": "markdown",
   "source": [
    "### Outlier Detection\n",
    "\n",
    "Get a dictionary of all potential outliers obtained over each class of the label feature. Outliers are defined based on a threshold of standard deviations of intra-cluster (class specific) distances to the cluster centroid."
   ],
   "metadata": {}
  },
  {
   "cell_type": "code",
   "execution_count": 15,
   "source": [
    "li.outlier_detection(th=3)"
   ],
   "outputs": [
    {
     "output_type": "execute_result",
     "data": {
      "text/plain": [
       "{'2:Med':     dept Region    Department  Crime_pers  Crime_prop  Literacy  Donations  \\\n",
       " 6      8      N      Ardennes       35203        8847        67       6400   \n",
       " 8     10      E          Aube       19602        4086        59       3608   \n",
       " 9     11      S          Aude       15647       10431        34       2582   \n",
       " 10    12      S       Aveyron        8236        6731        31       3211   \n",
       " 12    14      N      Calvados       17577        4500        52      27830   \n",
       " ..   ...    ...           ...         ...         ...       ...        ...   \n",
       " 81    86      W        Vienne       15010        4710        25       8922   \n",
       " 82    87      C  Haute-Vienne       16256        6402        13      13817   \n",
       " 83    88      E        Vosges       18835        9044        62       4040   \n",
       " 84    89      C         Yonne       18006        6516        47       4276   \n",
       " 85   200    NaN         Corse        2199        4589        49      37015   \n",
       " \n",
       "     Infants  Suicides MainCity  ...  Crime_parents  Infanticide  \\\n",
       " 6     16106     26198    2:Med  ...             53           85   \n",
       " 8     18642     10989    2:Med  ...             77           54   \n",
       " 9     20225     66498    2:Med  ...             80           35   \n",
       " 10    21981    116671    2:Med  ...             51            5   \n",
       " 12     8983     31807    2:Med  ...             57           56   \n",
       " ..      ...       ...      ...  ...            ...          ...   \n",
       " 81    35224     21851    2:Med  ...             20            1   \n",
       " 82    19940     33497    2:Med  ...             68            6   \n",
       " 83    14978     33029    2:Med  ...             58           34   \n",
       " 84    16616     12789    2:Med  ...             32           22   \n",
       " 85    24743     37016    2:Med  ...             81            2   \n",
       " \n",
       "     Donation_clergy  Lottery  Desertion  Instruction  Prostitutes  Distance  \\\n",
       " 6                49       31         62            9           83   105.694   \n",
       " 8                 9       28         86           15          207    83.244   \n",
       " 9                27       50         63           48            1   370.949   \n",
       " 10               23       81         10           44            4   296.089   \n",
       " 12               11       13         12           22          194   117.487   \n",
       " ..              ...      ...        ...          ...          ...       ...   \n",
       " 81               44       40         38           65           18   170.523   \n",
       " 82               78       55         11           84            7   198.874   \n",
       " 83                5       14         85           11           43   174.477   \n",
       " 84               35       51         66           27          272    81.797   \n",
       " 85               84       83          9           25            1   539.213   \n",
       " \n",
       "     Area  Pop1831  \n",
       " 6   5229   289.62  \n",
       " 8   6004   246.36  \n",
       " 9   6139   270.13  \n",
       " 10  8735   359.06  \n",
       " 12  5548   494.70  \n",
       " ..   ...      ...  \n",
       " 81  6990   282.73  \n",
       " 82  5520   285.13  \n",
       " 83  5874   397.99  \n",
       " 84  7427   352.49  \n",
       " 85  8680   195.41  \n",
       " \n",
       " [63 rows x 23 columns],\n",
       " '1:Sm':     dept Region    Department  Crime_pers  Crime_prop  Literacy  Donations  \\\n",
       " 3      4      E  Basses-Alpes       12935        7289        46       2733   \n",
       " 4      5      E  Hautes-Alpes       17488        8174        69       6962   \n",
       " 5      7      S       Ardeche        9474       10263        27       3188   \n",
       " 7      9      S        Ariege        6173        9597        18       3542   \n",
       " 20    23      C        Creuse       37014       20235        23      10997   \n",
       " 37    40      W        Landes       17687        6170        28      12059   \n",
       " 45    48      S        Lozere        7710        5990        27       2040   \n",
       " 49    52      E   Haute-Marne       26231        9539        72       4013   \n",
       " 67    70      E   Haute-Saone       22339        7770        59      11701   \n",
       " 80    85      W        Vendee       20827        7566        28      14035   \n",
       " \n",
       "     Infants  Suicides MainCity  ...  Crime_parents  Infanticide  \\\n",
       " 3     23018     14238     1:Sm  ...             70           12   \n",
       " 4     23076     16171     1:Sm  ...             22           23   \n",
       " 5     42117     52547     1:Sm  ...             76           47   \n",
       " 7     22916    123625     1:Sm  ...             74           28   \n",
       " 20    14363     77823     1:Sm  ...             75           24   \n",
       " 37    15302     35375     1:Sm  ...              1           43   \n",
       " 45    25157     11092     1:Sm  ...             72           45   \n",
       " 49    17507     19586     1:Sm  ...             63           55   \n",
       " 67    11850     39714     1:Sm  ...             25           68   \n",
       " 80    62486     67963     1:Sm  ...             50           44   \n",
       " \n",
       "     Donation_clergy  Lottery  Desertion  Instruction  Prostitutes  Distance  \\\n",
       " 3                37       80         32           29            2   351.399   \n",
       " 4                64       79         35            7            1   320.280   \n",
       " 5                67       70         19           62            1   279.413   \n",
       " 7                63       75         22           77            3   385.313   \n",
       " 20               75       85          4           71           12   180.846   \n",
       " 37               56       73         28           58            3   344.676   \n",
       " 45               42       86          5           60            0   283.810   \n",
       " 49                4       56         65            4          138   129.765   \n",
       " 67               57       65         83           14           99   176.135   \n",
       " 80               30       68         79           59            4   212.459   \n",
       " \n",
       "     Area  Pop1831  \n",
       " 3   6925   155.90  \n",
       " 4   5549   129.10  \n",
       " 5   5529   340.73  \n",
       " 7   4890   253.12  \n",
       " 20  5565   265.38  \n",
       " 37  9243   281.50  \n",
       " 45  5167   140.35  \n",
       " 49  8162   249.83  \n",
       " 67  5360   338.91  \n",
       " 80  6720   330.36  \n",
       " \n",
       " [10 rows x 23 columns],\n",
       " '3:Lg':     dept Region Department  Crime_pers  Crime_prop  Literacy  Donations  \\\n",
       " 70    75      N      Seine       13945        1368        71       4204   \n",
       " \n",
       "     Infants  Suicides MainCity  ...  Crime_parents  Infanticide  \\\n",
       " 70     2660      3632     3:Lg  ...             60           67   \n",
       " \n",
       "     Donation_clergy  Lottery  Desertion  Instruction  Prostitutes  Distance  \\\n",
       " 70               53        1         33            6         4744       0.0   \n",
       " \n",
       "     Area  Pop1831  \n",
       " 70   762   935.11  \n",
       " \n",
       " [1 rows x 23 columns]}"
      ]
     },
     "metadata": {},
     "execution_count": 15
    }
   ],
   "metadata": {}
  }
 ],
 "metadata": {
  "interpreter": {
   "hash": "e255f3ac955330aecee05fff6b7b15b68f4bd4cf0e9481cf0822c8a2e5228d43"
  },
  "kernelspec": {
   "name": "python3",
   "display_name": "Python 3.8.11 64-bit ('DQ': conda)"
  },
  "language_info": {
   "codemirror_mode": {
    "name": "ipython",
    "version": 3
   },
   "file_extension": ".py",
   "mimetype": "text/x-python",
   "name": "python",
   "nbconvert_exporter": "python",
   "pygments_lexer": "ipython3",
   "version": "3.8.11"
  },
  "metadata": {
   "interpreter": {
    "hash": "cdc2bce73c2a9ac283f602628cabf735dbe06c4ee87a7849fc5f3d1177c8f304"
   }
  },
  "orig_nbformat": 2
 },
 "nbformat": 4,
 "nbformat_minor": 2
}