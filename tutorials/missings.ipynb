{
 "cells": [
  {
   "cell_type": "markdown",
   "metadata": {},
   "source": [
    "# YData Quality - Missings Tutorial\n",
    "Time-to-Value: 4 minutes\n",
    "\n",
    "This notebook provides a tutorial for the ydata_quality package funcionality for Missing Values.\n",
    "\n",
    "**Structure:**\n",
    "\n",
    "1. Load dataset\n",
    "2. Distort dataset\n",
    "3. Instantiate the Data Quality engine\n",
    "4. Run the quality checks\n",
    "5. Assess the warnings\n",
    "6. (Extra) Detailed overview"
   ]
  },
  {
   "cell_type": "code",
   "execution_count": 1,
   "metadata": {},
   "outputs": [],
   "source": [
    "# Update the imports\n",
    "import statsmodels.api as sm\n",
    "from ydata_quality.missings import MissingsProfiler"
   ]
  },
  {
   "cell_type": "markdown",
   "metadata": {},
   "source": [
    "## Load the example dataset\n",
    "We will use a dataset available from the statsmodels package."
   ]
  },
  {
   "cell_type": "code",
   "execution_count": 2,
   "metadata": {},
   "outputs": [],
   "source": [
    "df = sm.datasets.get_rdataset('baseball', 'plyr').data"
   ]
  },
  {
   "cell_type": "markdown",
   "metadata": {},
   "source": [
    "## Create the engine\n",
    "Each engine contains the checks and tests for each suite. To create a {ENGINE NAME}, you provide:\n",
    "- df: target DataFrame, for which we will run the test suite\n",
    "- arg (optional): description of optional argument"
   ]
  },
  {
   "cell_type": "code",
   "execution_count": 3,
   "metadata": {},
   "outputs": [],
   "source": [
    "mp = MissingsProfiler(df=df)"
   ]
  },
  {
   "cell_type": "markdown",
   "metadata": {},
   "source": [
    "### Full Evaluation\n",
    "The easiest way to assess the data quality analysis is to run `.evaluate()` which returns a list of warnings for each quality check. "
   ]
  },
  {
   "cell_type": "code",
   "execution_count": 4,
   "metadata": {},
   "outputs": [],
   "source": [
    "results = mp.evaluate()"
   ]
  },
  {
   "cell_type": "markdown",
   "metadata": {},
   "source": [
    "## Check the status\n",
    "After running the data quality checks, you can check the warnings for each individual test. The warnings are a dictionary of {test: result}."
   ]
  },
  {
   "cell_type": "code",
   "execution_count": 5,
   "metadata": {},
   "outputs": [
    {
     "name": "stdout",
     "output_type": "stream",
     "text": [
      "[HIGH MISSING CORRELATIONS] Found 9 feature pairs with correlation of missing values higher than defined threshold (0.5). (Priority 3: minor impact, aesthetic)\n",
      "[HIGH MISSINGS] Found 4 columns with more than 20.0% of missing values. (Priority 3: minor impact, aesthetic)\n",
      "[MISSINGNESS PREDICTION] Found 9 features with prediction performance of missingness above threshold (0.8). (Priority 2: usage allowed, limited human intelligibility)\n"
     ]
    }
   ],
   "source": [
    "mp.report()"
   ]
  },
  {
   "cell_type": "markdown",
   "metadata": {},
   "source": [
    "## Full Test Suite\n",
    "In this section, you will find a detailed overview of the available tests in the duplicates module of ydata_quality."
   ]
  },
  {
   "cell_type": "markdown",
   "metadata": {},
   "source": [
    "### Null Count\n",
    "\n",
    "Count the number of nulls/missings for a DataFrame. Can be calculated for:\n",
    "- Specific column (entity defined) or all columns (entity=None)\n",
    "- Count of nulls (normalize=False) or ratio of rows (normalize=True)"
   ]
  },
  {
   "cell_type": "code",
   "execution_count": 6,
   "metadata": {},
   "outputs": [
    {
     "data": {
      "text/plain": "lg        65\nrbi       12\nsb       250\ncs      4525\nso      1305\nibb     7528\nhbp      377\nsh       960\nsf      7390\ngidp    5272\ndtype: int64"
     },
     "execution_count": 6,
     "metadata": {},
     "output_type": "execute_result"
    }
   ],
   "source": [
    "mp.null_count()"
   ]
  },
  {
   "cell_type": "code",
   "execution_count": 7,
   "metadata": {},
   "outputs": [
    {
     "data": {
      "text/plain": "cs      0.208535\nibb     0.346928\nsf      0.340569\ngidp    0.242961\ndtype: float64"
     },
     "execution_count": 7,
     "metadata": {},
     "output_type": "execute_result"
    }
   ],
   "source": [
    "mp.nulls_higher_than(th=0.1)"
   ]
  },
  {
   "cell_type": "markdown",
   "metadata": {},
   "source": [
    "## Correlation of Missings\n",
    "Calculates the correlation between missing feature values. High correlation between missing values signals that data absence may not be completely at random. Is provided as:\n",
    "- Missing Correlations: full matrix of correlations between missing feature values;\n",
    "- High Missing Correlations: missing correlations filtered by a given threshold."
   ]
  },
  {
   "cell_type": "code",
   "execution_count": 8,
   "metadata": {},
   "outputs": [
    {
     "data": {
      "text/html": "<div>\n<style scoped>\n    .dataframe tbody tr th:only-of-type {\n        vertical-align: middle;\n    }\n\n    .dataframe tbody tr th {\n        vertical-align: top;\n    }\n\n    .dataframe thead th {\n        text-align: right;\n    }\n</style>\n<table border=\"1\" class=\"dataframe\">\n  <thead>\n    <tr style=\"text-align: right;\">\n      <th></th>\n      <th>lg</th>\n      <th>rbi</th>\n      <th>sb</th>\n      <th>cs</th>\n      <th>so</th>\n      <th>ibb</th>\n      <th>hbp</th>\n      <th>sh</th>\n      <th>sf</th>\n      <th>gidp</th>\n    </tr>\n  </thead>\n  <tbody>\n    <tr>\n      <th>lg</th>\n      <td>1.000000</td>\n      <td>-0.001289</td>\n      <td>-0.005918</td>\n      <td>-0.028136</td>\n      <td>-0.013866</td>\n      <td>0.075205</td>\n      <td>0.412222</td>\n      <td>0.254769</td>\n      <td>0.076273</td>\n      <td>0.096756</td>\n    </tr>\n    <tr>\n      <th>rbi</th>\n      <td>-0.001289</td>\n      <td>1.000000</td>\n      <td>-0.002540</td>\n      <td>0.045827</td>\n      <td>0.092990</td>\n      <td>0.032274</td>\n      <td>0.176903</td>\n      <td>0.109332</td>\n      <td>0.032732</td>\n      <td>0.041522</td>\n    </tr>\n    <tr>\n      <th>sb</th>\n      <td>-0.005918</td>\n      <td>-0.002540</td>\n      <td>1.000000</td>\n      <td>0.210326</td>\n      <td>-0.027310</td>\n      <td>0.148125</td>\n      <td>0.811914</td>\n      <td>0.501793</td>\n      <td>0.150227</td>\n      <td>0.190571</td>\n    </tr>\n    <tr>\n      <th>cs</th>\n      <td>-0.028136</td>\n      <td>0.045827</td>\n      <td>0.210326</td>\n      <td>1.000000</td>\n      <td>0.491380</td>\n      <td>0.704262</td>\n      <td>0.201750</td>\n      <td>0.383291</td>\n      <td>0.714259</td>\n      <td>0.626763</td>\n    </tr>\n    <tr>\n      <th>so</th>\n      <td>-0.013866</td>\n      <td>0.092990</td>\n      <td>-0.027310</td>\n      <td>0.491380</td>\n      <td>1.000000</td>\n      <td>0.345846</td>\n      <td>0.009386</td>\n      <td>0.072834</td>\n      <td>0.350768</td>\n      <td>0.446525</td>\n    </tr>\n    <tr>\n      <th>ibb</th>\n      <td>0.075205</td>\n      <td>0.032274</td>\n      <td>0.148125</td>\n      <td>0.704262</td>\n      <td>0.345846</td>\n      <td>1.000000</td>\n      <td>0.181698</td>\n      <td>0.295190</td>\n      <td>0.986003</td>\n      <td>0.776136</td>\n    </tr>\n    <tr>\n      <th>hbp</th>\n      <td>0.412222</td>\n      <td>0.176903</td>\n      <td>0.811914</td>\n      <td>0.201750</td>\n      <td>0.009386</td>\n      <td>0.181698</td>\n      <td>1.000000</td>\n      <td>0.614607</td>\n      <td>0.184284</td>\n      <td>0.233897</td>\n    </tr>\n    <tr>\n      <th>sh</th>\n      <td>0.254769</td>\n      <td>0.109332</td>\n      <td>0.501793</td>\n      <td>0.383291</td>\n      <td>0.072834</td>\n      <td>0.295190</td>\n      <td>0.614607</td>\n      <td>1.000000</td>\n      <td>0.299381</td>\n      <td>0.379781</td>\n    </tr>\n    <tr>\n      <th>sf</th>\n      <td>0.076273</td>\n      <td>0.032732</td>\n      <td>0.150227</td>\n      <td>0.714259</td>\n      <td>0.350768</td>\n      <td>0.986003</td>\n      <td>0.184284</td>\n      <td>0.299381</td>\n      <td>1.000000</td>\n      <td>0.787165</td>\n    </tr>\n    <tr>\n      <th>gidp</th>\n      <td>0.096756</td>\n      <td>0.041522</td>\n      <td>0.190571</td>\n      <td>0.626763</td>\n      <td>0.446525</td>\n      <td>0.776136</td>\n      <td>0.233897</td>\n      <td>0.379781</td>\n      <td>0.787165</td>\n      <td>1.000000</td>\n    </tr>\n  </tbody>\n</table>\n</div>",
      "text/plain": "            lg       rbi        sb        cs        so       ibb       hbp  \\\nlg    1.000000 -0.001289 -0.005918 -0.028136 -0.013866  0.075205  0.412222   \nrbi  -0.001289  1.000000 -0.002540  0.045827  0.092990  0.032274  0.176903   \nsb   -0.005918 -0.002540  1.000000  0.210326 -0.027310  0.148125  0.811914   \ncs   -0.028136  0.045827  0.210326  1.000000  0.491380  0.704262  0.201750   \nso   -0.013866  0.092990 -0.027310  0.491380  1.000000  0.345846  0.009386   \nibb   0.075205  0.032274  0.148125  0.704262  0.345846  1.000000  0.181698   \nhbp   0.412222  0.176903  0.811914  0.201750  0.009386  0.181698  1.000000   \nsh    0.254769  0.109332  0.501793  0.383291  0.072834  0.295190  0.614607   \nsf    0.076273  0.032732  0.150227  0.714259  0.350768  0.986003  0.184284   \ngidp  0.096756  0.041522  0.190571  0.626763  0.446525  0.776136  0.233897   \n\n            sh        sf      gidp  \nlg    0.254769  0.076273  0.096756  \nrbi   0.109332  0.032732  0.041522  \nsb    0.501793  0.150227  0.190571  \ncs    0.383291  0.714259  0.626763  \nso    0.072834  0.350768  0.446525  \nibb   0.295190  0.986003  0.776136  \nhbp   0.614607  0.184284  0.233897  \nsh    1.000000  0.299381  0.379781  \nsf    0.299381  1.000000  0.787165  \ngidp  0.379781  0.787165  1.000000  "
     },
     "execution_count": 8,
     "metadata": {},
     "output_type": "execute_result"
    }
   ],
   "source": [
    "mp.missing_correlations()"
   ]
  },
  {
   "cell_type": "code",
   "execution_count": 9,
   "metadata": {},
   "outputs": [
    {
     "data": {
      "text/plain": "features\nibb_sf    0.986003\nhbp_sb    0.811914\nName: missings_corr, dtype: float64"
     },
     "execution_count": 9,
     "metadata": {},
     "output_type": "execute_result"
    }
   ],
   "source": [
    "mp.high_missing_correlations(th=0.8)"
   ]
  },
  {
   "cell_type": "markdown",
   "metadata": {},
   "source": [
    "## Prediction of Missingness\n",
    "The ability to easily predict missing values for a given feature with a baseline model indicates that the process causing the missing values may not be completely at random."
   ]
  },
  {
   "cell_type": "code",
   "execution_count": 10,
   "metadata": {},
   "outputs": [
    {
     "data": {
      "text/plain": "so    0.898037\nlg    0.996147\nName: predict_missings, dtype: float64"
     },
     "execution_count": 10,
     "metadata": {},
     "output_type": "execute_result"
    }
   ],
   "source": [
    "mp.predict_missings(['so', 'lg'])"
   ]
  },
  {
   "cell_type": "code",
   "execution_count": 11,
   "metadata": {},
   "outputs": [
    {
     "data": {
      "text/plain": "lg      0.996147\nrbi     0.722921\nsb      0.963484\ncs      0.832604\nso      0.898037\nibb     0.866495\nhbp     0.963157\nsh      0.966495\nsf      0.866573\ngidp    0.860868\nName: predict_missings, dtype: float64"
     },
     "execution_count": 11,
     "metadata": {},
     "output_type": "execute_result"
    }
   ],
   "source": [
    "mp.predict_missings()"
   ]
  },
  {
   "cell_type": "markdown",
   "metadata": {},
   "source": [
    "## Performance Drop\n",
    "Testing the performance drop when the feature values are missing enables the Data Scientists to better understand the downstream impact of missing values.\n",
    "When normalized, the performance is measured as a ratio over a baseline performance metric achieved for the whole dataset."
   ]
  },
  {
   "cell_type": "code",
   "execution_count": 12,
   "metadata": {},
   "outputs": [
    {
     "data": {
      "text/html": "<div>\n<style scoped>\n    .dataframe tbody tr th:only-of-type {\n        vertical-align: middle;\n    }\n\n    .dataframe tbody tr th {\n        vertical-align: top;\n    }\n\n    .dataframe thead th {\n        text-align: right;\n    }\n</style>\n<table border=\"1\" class=\"dataframe\">\n  <thead>\n    <tr style=\"text-align: right;\">\n      <th></th>\n      <th>lg</th>\n      <th>rbi</th>\n      <th>sb</th>\n      <th>cs</th>\n      <th>so</th>\n      <th>ibb</th>\n      <th>hbp</th>\n      <th>sh</th>\n      <th>sf</th>\n      <th>gidp</th>\n    </tr>\n  </thead>\n  <tbody>\n    <tr>\n      <th>missing</th>\n      <td>1.419967</td>\n      <td>1.925031</td>\n      <td>1.514285</td>\n      <td>1.371947</td>\n      <td>1.996738</td>\n      <td>1.286949</td>\n      <td>1.579767</td>\n      <td>1.768515</td>\n      <td>1.297806</td>\n      <td>1.483529</td>\n    </tr>\n    <tr>\n      <th>valued</th>\n      <td>0.998576</td>\n      <td>0.999289</td>\n      <td>0.994329</td>\n      <td>0.903868</td>\n      <td>0.938039</td>\n      <td>0.850083</td>\n      <td>0.989390</td>\n      <td>0.966104</td>\n      <td>0.849651</td>\n      <td>0.846972</td>\n    </tr>\n  </tbody>\n</table>\n</div>",
      "text/plain": "               lg       rbi        sb        cs        so       ibb       hbp  \\\nmissing  1.419967  1.925031  1.514285  1.371947  1.996738  1.286949  1.579767   \nvalued   0.998576  0.999289  0.994329  0.903868  0.938039  0.850083  0.989390   \n\n               sh        sf      gidp  \nmissing  1.768515  1.297806  1.483529  \nvalued   0.966104  0.849651  0.846972  "
     },
     "execution_count": 12,
     "metadata": {},
     "output_type": "execute_result"
    }
   ],
   "source": [
    "mp.target = 'ab'\n",
    "mp.performance_drop(normalize=True)"
   ]
  },
  {
   "cell_type": "markdown",
   "metadata": {},
   "source": [
    "### Advanced - Custom Warning\n",
    "For custom warnings, we can implement a QualityWarning from scratch based on the outputs of the Performance Drop and store in the original MissingsProfiler engine."
   ]
  },
  {
   "cell_type": "code",
   "execution_count": 13,
   "metadata": {},
   "outputs": [],
   "source": [
    "from ydata_quality.core import QualityWarning"
   ]
  },
  {
   "cell_type": "code",
   "execution_count": 14,
   "metadata": {},
   "outputs": [],
   "source": [
    "# Define a new custom QualityWarning\n",
    "new_warning = QualityWarning(\n",
    "    category='Missings',\n",
    "    test='Performance Drop',\n",
    "    description='Found severe  differences in performance between missing and non-missing feature values.',\n",
    "    priority=2, # 0 critical, 1 heavy, 2 medium, 3 minor \n",
    "    data=mp.performance_drop(normalize=True),\n",
    ")"
   ]
  },
  {
   "cell_type": "code",
   "execution_count": 15,
   "metadata": {},
   "outputs": [],
   "source": [
    "# Store to the original data quality engine\n",
    "mp.store_warning(new_warning)"
   ]
  },
  {
   "cell_type": "code",
   "execution_count": 16,
   "metadata": {},
   "outputs": [],
   "source": [
    "# Retrieve the custom warning from the Performance Drop\n",
    "perf_drop_warnings = mp.get_warnings(test='Performance Drop')"
   ]
  }
 ],
 "metadata": {
  "kernelspec": {
   "display_name": "Python 3.8.10 64-bit ('.venv': venv)",
   "name": "pythonjvsc74a57bd0cdc2bce73c2a9ac283f602628cabf735dbe06c4ee87a7849fc5f3d1177c8f304"
  },
  "language_info": {
   "codemirror_mode": {
    "name": "ipython",
    "version": 3
   },
   "file_extension": ".py",
   "mimetype": "text/x-python",
   "name": "python",
   "nbconvert_exporter": "python",
   "pygments_lexer": "ipython3",
   "version": "3.8.10"
  },
  "metadata": {
   "interpreter": {
    "hash": "cdc2bce73c2a9ac283f602628cabf735dbe06c4ee87a7849fc5f3d1177c8f304"
   }
  },
  "orig_nbformat": 2
 },
 "nbformat": 4,
 "nbformat_minor": 2
}