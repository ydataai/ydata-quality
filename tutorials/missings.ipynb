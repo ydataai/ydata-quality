{
 "cells": [
  {
   "cell_type": "raw",
   "metadata": {},
   "source": []
  },
  {
   "cell_type": "markdown",
   "metadata": {},
   "source": [
    "# YData Quality - Missings Tutorial\n",
    "Time-to-Value: 4 minutes\n",
    "\n",
    "This notebook provides a tutorial for the ydata_quality package funcionality for Missing Values.\n",
    "\n",
    "**Structure:**\n",
    "\n",
    "1. Load dataset\n",
    "2. Distort dataset\n",
    "3. Instantiate the Data Quality engine\n",
    "4. Run the quality checks\n",
    "5. Assess the warnings\n",
    "6. (Extra) Detailed overview"
   ]
  },
  {
   "cell_type": "code",
   "execution_count": 1,
   "metadata": {},
   "outputs": [],
   "source": [
    "# Update the imports\n",
    "import statsmodels.api as sm\n",
    "from ydata_quality.missings import MissingsProfiler"
   ]
  },
  {
   "cell_type": "markdown",
   "metadata": {},
   "source": [
    "## Load the example dataset\n",
    "We will use a dataset available from the statsmodels package."
   ]
  },
  {
   "cell_type": "code",
   "execution_count": 2,
   "metadata": {},
   "outputs": [],
   "source": [
    "df = sm.datasets.get_rdataset('baseball', 'plyr').data"
   ]
  },
  {
   "cell_type": "markdown",
   "metadata": {},
   "source": [
    "## Create the engine\n",
    "Each engine contains the checks and tests for each suite. To create a {ENGINE NAME}, you provide:\n",
    "- df: target DataFrame, for which we will run the test suite\n",
    "- arg (optional): description of optional argument"
   ]
  },
  {
   "cell_type": "code",
   "execution_count": 3,
   "metadata": {},
   "outputs": [],
   "source": [
    "mp = MissingsProfiler(df=df)"
   ]
  },
  {
   "cell_type": "markdown",
   "metadata": {},
   "source": [
    "### Full Evaluation\n",
    "The easiest way to assess the data quality analysis is to run `.evaluate()` which returns a list of warnings for each quality check. "
   ]
  },
  {
   "cell_type": "code",
   "execution_count": 4,
   "metadata": {},
   "outputs": [
    {
     "data": {
      "text/plain": "lg        65\nrbi       12\nsb       250\ncs      4525\nso      1305\nibb     7528\nhbp      377\nsh       960\nsf      7390\ngidp    5272\ndtype: int64"
     },
     "execution_count": 4,
     "metadata": {},
     "output_type": "execute_result"
    }
   ],
   "source": [
    "mp.null_count()"
   ]
  },
  {
   "cell_type": "code",
   "execution_count": 5,
   "metadata": {},
   "outputs": [],
   "source": [
    "results = mp.evaluate()"
   ]
  },
  {
   "cell_type": "markdown",
   "metadata": {},
   "source": [
    "## Check the status\n",
    "After running the data quality checks, you can check the warnings for each individual test. The warnings are a dictionary of {test: result}."
   ]
  },
  {
   "cell_type": "code",
   "execution_count": 6,
   "metadata": {},
   "outputs": [
    {
     "name": "stdout",
     "output_type": "stream",
     "text": [
      "[HIGH MISSING CORRELATIONS] Found 9 feature pairs with correlation of missing values higher than defined threshold (0.5). (Priority 3: minor impact, aesthetic)\n",
      "[MISSINGNESS PREDICTION] Found 9 features with prediction performance of missingness above threshold (0.8). (Priority 2: usage allowed, limited human intelligibility)\n",
      "[HIGH MISSINGS] Found 4 columns with more than 20.0% of missing values. (Priority 3: minor impact, aesthetic)\n"
     ]
    }
   ],
   "source": [
    "mp.report()"
   ]
  },
  {
   "cell_type": "markdown",
   "metadata": {},
   "source": [
    "## Full Test Suite\n",
    "In this section, you will find a detailed overview of the available tests in the duplicates module of ydata_quality."
   ]
  },
  {
   "cell_type": "markdown",
   "metadata": {},
   "source": [
    "### Null Count\n",
    "\n",
    "Count the number of nulls/missings for a DataFrame. Can be calculated for:\n",
    "- Specific column (entity defined) or all columns (entity=None)\n",
    "- Count of nulls (as_pct=False) or ratio of rows (as_pct=True)"
   ]
  },
  {
   "cell_type": "code",
   "execution_count": 7,
   "metadata": {},
   "outputs": [
    {
     "data": {
      "text/plain": "lg        65\nrbi       12\nsb       250\ncs      4525\nso      1305\nibb     7528\nhbp      377\nsh       960\nsf      7390\ngidp    5272\ndtype: int64"
     },
     "execution_count": 7,
     "metadata": {},
     "output_type": "execute_result"
    }
   ],
   "source": [
    "mp.null_count()"
   ]
  },
  {
   "cell_type": "code",
   "execution_count": 8,
   "metadata": {},
   "outputs": [
    {
     "data": {
      "text/plain": "cs      0.208535\nibb     0.346928\nsf      0.340569\ngidp    0.242961\ndtype: float64"
     },
     "execution_count": 8,
     "metadata": {},
     "output_type": "execute_result"
    }
   ],
   "source": [
    "mp.nulls_higher_than(th=0.1)"
   ]
  },
  {
   "cell_type": "markdown",
   "metadata": {},
   "source": [
    "## Correlation of Missings\n",
    "Calculates the correlation between missing feature values. High correlation between missing values signals that data absence may not be completely at random. Is provided as:\n",
    "- Missing Correlations: full matrix of correlations between missing feature values;\n",
    "- High Missing Correlations: missing correlations filtered by a given threshold."
   ]
  },
  {
   "cell_type": "code",
   "execution_count": 9,
   "metadata": {},
   "outputs": [
    {
     "data": {
      "text/html": "<div>\n<style scoped>\n    .dataframe tbody tr th:only-of-type {\n        vertical-align: middle;\n    }\n\n    .dataframe tbody tr th {\n        vertical-align: top;\n    }\n\n    .dataframe thead th {\n        text-align: right;\n    }\n</style>\n<table border=\"1\" class=\"dataframe\">\n  <thead>\n    <tr style=\"text-align: right;\">\n      <th></th>\n      <th>lg</th>\n      <th>rbi</th>\n      <th>sb</th>\n      <th>cs</th>\n      <th>so</th>\n      <th>ibb</th>\n      <th>hbp</th>\n      <th>sh</th>\n      <th>sf</th>\n      <th>gidp</th>\n    </tr>\n  </thead>\n  <tbody>\n    <tr>\n      <th>lg</th>\n      <td>1.000000</td>\n      <td>-0.001289</td>\n      <td>-0.005918</td>\n      <td>-0.028136</td>\n      <td>-0.013866</td>\n      <td>0.075205</td>\n      <td>0.412222</td>\n      <td>0.254769</td>\n      <td>0.076273</td>\n      <td>0.096756</td>\n    </tr>\n    <tr>\n      <th>rbi</th>\n      <td>-0.001289</td>\n      <td>1.000000</td>\n      <td>-0.002540</td>\n      <td>0.045827</td>\n      <td>0.092990</td>\n      <td>0.032274</td>\n      <td>0.176903</td>\n      <td>0.109332</td>\n      <td>0.032732</td>\n      <td>0.041522</td>\n    </tr>\n    <tr>\n      <th>sb</th>\n      <td>-0.005918</td>\n      <td>-0.002540</td>\n      <td>1.000000</td>\n      <td>0.210326</td>\n      <td>-0.027310</td>\n      <td>0.148125</td>\n      <td>0.811914</td>\n      <td>0.501793</td>\n      <td>0.150227</td>\n      <td>0.190571</td>\n    </tr>\n    <tr>\n      <th>cs</th>\n      <td>-0.028136</td>\n      <td>0.045827</td>\n      <td>0.210326</td>\n      <td>1.000000</td>\n      <td>0.491380</td>\n      <td>0.704262</td>\n      <td>0.201750</td>\n      <td>0.383291</td>\n      <td>0.714259</td>\n      <td>0.626763</td>\n    </tr>\n    <tr>\n      <th>so</th>\n      <td>-0.013866</td>\n      <td>0.092990</td>\n      <td>-0.027310</td>\n      <td>0.491380</td>\n      <td>1.000000</td>\n      <td>0.345846</td>\n      <td>0.009386</td>\n      <td>0.072834</td>\n      <td>0.350768</td>\n      <td>0.446525</td>\n    </tr>\n    <tr>\n      <th>ibb</th>\n      <td>0.075205</td>\n      <td>0.032274</td>\n      <td>0.148125</td>\n      <td>0.704262</td>\n      <td>0.345846</td>\n      <td>1.000000</td>\n      <td>0.181698</td>\n      <td>0.295190</td>\n      <td>0.986003</td>\n      <td>0.776136</td>\n    </tr>\n    <tr>\n      <th>hbp</th>\n      <td>0.412222</td>\n      <td>0.176903</td>\n      <td>0.811914</td>\n      <td>0.201750</td>\n      <td>0.009386</td>\n      <td>0.181698</td>\n      <td>1.000000</td>\n      <td>0.614607</td>\n      <td>0.184284</td>\n      <td>0.233897</td>\n    </tr>\n    <tr>\n      <th>sh</th>\n      <td>0.254769</td>\n      <td>0.109332</td>\n      <td>0.501793</td>\n      <td>0.383291</td>\n      <td>0.072834</td>\n      <td>0.295190</td>\n      <td>0.614607</td>\n      <td>1.000000</td>\n      <td>0.299381</td>\n      <td>0.379781</td>\n    </tr>\n    <tr>\n      <th>sf</th>\n      <td>0.076273</td>\n      <td>0.032732</td>\n      <td>0.150227</td>\n      <td>0.714259</td>\n      <td>0.350768</td>\n      <td>0.986003</td>\n      <td>0.184284</td>\n      <td>0.299381</td>\n      <td>1.000000</td>\n      <td>0.787165</td>\n    </tr>\n    <tr>\n      <th>gidp</th>\n      <td>0.096756</td>\n      <td>0.041522</td>\n      <td>0.190571</td>\n      <td>0.626763</td>\n      <td>0.446525</td>\n      <td>0.776136</td>\n      <td>0.233897</td>\n      <td>0.379781</td>\n      <td>0.787165</td>\n      <td>1.000000</td>\n    </tr>\n  </tbody>\n</table>\n</div>",
      "text/plain": "            lg       rbi        sb        cs        so       ibb       hbp  \\\nlg    1.000000 -0.001289 -0.005918 -0.028136 -0.013866  0.075205  0.412222   \nrbi  -0.001289  1.000000 -0.002540  0.045827  0.092990  0.032274  0.176903   \nsb   -0.005918 -0.002540  1.000000  0.210326 -0.027310  0.148125  0.811914   \ncs   -0.028136  0.045827  0.210326  1.000000  0.491380  0.704262  0.201750   \nso   -0.013866  0.092990 -0.027310  0.491380  1.000000  0.345846  0.009386   \nibb   0.075205  0.032274  0.148125  0.704262  0.345846  1.000000  0.181698   \nhbp   0.412222  0.176903  0.811914  0.201750  0.009386  0.181698  1.000000   \nsh    0.254769  0.109332  0.501793  0.383291  0.072834  0.295190  0.614607   \nsf    0.076273  0.032732  0.150227  0.714259  0.350768  0.986003  0.184284   \ngidp  0.096756  0.041522  0.190571  0.626763  0.446525  0.776136  0.233897   \n\n            sh        sf      gidp  \nlg    0.254769  0.076273  0.096756  \nrbi   0.109332  0.032732  0.041522  \nsb    0.501793  0.150227  0.190571  \ncs    0.383291  0.714259  0.626763  \nso    0.072834  0.350768  0.446525  \nibb   0.295190  0.986003  0.776136  \nhbp   0.614607  0.184284  0.233897  \nsh    1.000000  0.299381  0.379781  \nsf    0.299381  1.000000  0.787165  \ngidp  0.379781  0.787165  1.000000  "
     },
     "execution_count": 9,
     "metadata": {},
     "output_type": "execute_result"
    }
   ],
   "source": [
    "mp.missing_correlations()"
   ]
  },
  {
   "cell_type": "code",
   "execution_count": 10,
   "metadata": {},
   "outputs": [
    {
     "data": {
      "text/html": "<div>\n<style scoped>\n    .dataframe tbody tr th:only-of-type {\n        vertical-align: middle;\n    }\n\n    .dataframe tbody tr th {\n        vertical-align: top;\n    }\n\n    .dataframe thead th {\n        text-align: right;\n    }\n</style>\n<table border=\"1\" class=\"dataframe\">\n  <thead>\n    <tr style=\"text-align: right;\">\n      <th></th>\n      <th>index</th>\n      <th>variable</th>\n      <th>value</th>\n      <th>sorted_pairs</th>\n    </tr>\n  </thead>\n  <tbody>\n    <tr>\n      <th>58</th>\n      <td>sf</td>\n      <td>ibb</td>\n      <td>0.986003</td>\n      <td>ibb_sf</td>\n    </tr>\n    <tr>\n      <th>26</th>\n      <td>hbp</td>\n      <td>sb</td>\n      <td>0.811914</td>\n      <td>hbp_sb</td>\n    </tr>\n  </tbody>\n</table>\n</div>",
      "text/plain": "   index variable     value sorted_pairs\n58    sf      ibb  0.986003       ibb_sf\n26   hbp       sb  0.811914       hbp_sb"
     },
     "execution_count": 10,
     "metadata": {},
     "output_type": "execute_result"
    }
   ],
   "source": [
    "mp.high_missing_correlations(th=0.8)"
   ]
  },
  {
   "cell_type": "markdown",
   "metadata": {},
   "source": [
    "## Prediction of Missingness\n",
    "The ability to easily predict missing values for a given feature with a baseline model indicates that the process causing the missing values may not be completely at random."
   ]
  },
  {
   "cell_type": "code",
   "execution_count": 11,
   "metadata": {},
   "outputs": [
    {
     "data": {
      "text/plain": "{'so': 0.8980369132761978, 'lg': 0.9961467324290999}"
     },
     "execution_count": 11,
     "metadata": {},
     "output_type": "execute_result"
    }
   ],
   "source": [
    "mp.predict_missings(col=['so', 'lg'])"
   ]
  },
  {
   "cell_type": "code",
   "execution_count": 12,
   "metadata": {},
   "outputs": [
    {
     "data": {
      "text/plain": "{'lg': 0.9961467324290999,\n 'rbi': 0.7229208301306688,\n 'sb': 0.9634839632608511,\n 'cs': 0.8326044514256971,\n 'so': 0.8980369132761978,\n 'ibb': 0.8664950760966876,\n 'hbp': 0.9631568181544718,\n 'sh': 0.9664952978056426,\n 'sf': 0.866573017058454,\n 'gidp': 0.8608684022651725}"
     },
     "execution_count": 12,
     "metadata": {},
     "output_type": "execute_result"
    }
   ],
   "source": [
    "mp.predict_missings()"
   ]
  },
  {
   "cell_type": "markdown",
   "metadata": {},
   "source": [
    "## Performance Drop\n",
    "Calculate the drop in performance when the feature values for a specific column are NAs"
   ]
  },
  {
   "cell_type": "code",
   "execution_count": 19,
   "metadata": {},
   "outputs": [],
   "source": [
    "mp.target = 'ab'"
   ]
  },
  {
   "cell_type": "code",
   "execution_count": 20,
   "metadata": {},
   "outputs": [
    {
     "data": {
      "text/plain": "{'lg': {'missing': 862.0865059674587, 'valued': 606.2528927899764},\n 'rbi': {'missing': 1168.7201400097863, 'valued': 606.6857910611225},\n 'sb': {'missing': 919.3489502674844, 'valued': 603.6746227805031},\n 'cs': {'missing': 832.9330970826526, 'valued': 548.7537445878879},\n 'so': {'missing': 1212.2542250783617, 'valued': 569.5000508725395},\n 'ibb': {'missing': 781.329293658966, 'valued': 516.1003343120956},\n 'hbp': {'missing': 959.1039321312575, 'valued': 600.6756626768799},\n 'sh': {'missing': 1073.6962665431095, 'valued': 586.5386043710178},\n 'sf': {'missing': 787.9208312425715, 'valued': 515.8380897177242},\n 'gidp': {'missing': 900.6760588771198, 'valued': 514.2116560990816}}"
     },
     "execution_count": 20,
     "metadata": {},
     "output_type": "execute_result"
    }
   ],
   "source": [
    "mp.performance_drop()"
   ]
  }
 ],
 "metadata": {
  "kernelspec": {
   "display_name": "Python 3.8.5 64-bit ('.venv': venv)",
   "name": "pythonjvsc74a57bd0cdc2bce73c2a9ac283f602628cabf735dbe06c4ee87a7849fc5f3d1177c8f304"
  },
  "language_info": {
   "codemirror_mode": {
    "name": "ipython",
    "version": 3
   },
   "file_extension": ".py",
   "mimetype": "text/x-python",
   "name": "python",
   "nbconvert_exporter": "python",
   "pygments_lexer": "ipython3",
   "version": "3.8.5"
  },
  "metadata": {
   "interpreter": {
    "hash": "cdc2bce73c2a9ac283f602628cabf735dbe06c4ee87a7849fc5f3d1177c8f304"
   }
  },
  "orig_nbformat": 2
 },
 "nbformat": 4,
 "nbformat_minor": 2
}