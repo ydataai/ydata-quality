{
 "cells": [
  {
   "cell_type": "markdown",
   "source": [
    "# YData Quality - Missings Tutorial\n",
    "Time-to-Value: 4 minutes\n",
    "\n",
    "This notebook provides a tutorial for the ydata_quality package funcionality for Missing Values.\n",
    "\n",
    "**Structure:**\n",
    "\n",
    "1. Load dataset\n",
    "2. Distort dataset\n",
    "3. Instantiate the Data Quality engine\n",
    "4. Run the quality checks\n",
    "5. Assess the warnings\n",
    "6. (Extra) Detailed overview"
   ],
   "metadata": {}
  },
  {
   "cell_type": "code",
   "execution_count": 1,
   "source": [
    "# Update the imports\n",
    "import statsmodels.api as sm\n",
    "from ydata_quality.missings import MissingsProfiler"
   ],
   "outputs": [],
   "metadata": {}
  },
  {
   "cell_type": "markdown",
   "source": [
    "## Load the example dataset\n",
    "We will use a dataset available from the statsmodels package."
   ],
   "metadata": {}
  },
  {
   "cell_type": "code",
   "execution_count": 2,
   "source": [
    "df = sm.datasets.get_rdataset('baseball', 'plyr').data"
   ],
   "outputs": [],
   "metadata": {}
  },
  {
   "cell_type": "markdown",
   "source": [
    "## Create the engine\n",
    "Each engine contains the checks and tests for each suite. To create a {ENGINE NAME}, you provide:\n",
    "- df: target DataFrame, for which we will run the test suite\n",
    "- arg (optional): description of optional argument"
   ],
   "metadata": {}
  },
  {
   "cell_type": "code",
   "execution_count": 3,
   "source": [
    "mp = MissingsProfiler(df=df, random_state=42)"
   ],
   "outputs": [],
   "metadata": {}
  },
  {
   "cell_type": "markdown",
   "source": [
    "### Full Evaluation\n",
    "The easiest way to assess the data quality analysis is to run `.evaluate()` which returns a list of warnings for each quality check. "
   ],
   "metadata": {}
  },
  {
   "cell_type": "code",
   "execution_count": 4,
   "source": [
    "results = mp.evaluate()"
   ],
   "outputs": [],
   "metadata": {}
  },
  {
   "cell_type": "markdown",
   "source": [
    "## Check the status\n",
    "After running the data quality checks, you can check the warnings for each individual test."
   ],
   "metadata": {}
  },
  {
   "cell_type": "code",
   "execution_count": 5,
   "source": [
    "mp.report()"
   ],
   "outputs": [
    {
     "output_type": "stream",
     "name": "stdout",
     "text": [
      "Warnings count by priority:\n",
      "\tPriority 2: 1 warning(s)\n",
      "\tPriority 3: 2 warning(s)\n",
      "\tTOTAL: 3 warning(s)\n",
      "List of warnings sorted by priority:\n",
      "\t[MISSINGNESS PREDICTION] Found 9 features with prediction performance of missingness above threshold (0.8). (Priority 2: usage allowed, limited human intelligibility)\n",
      "\t[HIGH MISSINGS] Found 4 columns with more than 20.0% of missing values. (Priority 3: minor impact, aesthetic)\n",
      "\t[HIGH MISSING CORRELATIONS] Found 9 feature pairs with correlation of missing values higher than defined threshold (0.5). (Priority 3: minor impact, aesthetic)\n"
     ]
    }
   ],
   "metadata": {}
  },
  {
   "cell_type": "markdown",
   "source": [
    "### Quality Warning"
   ],
   "metadata": {}
  },
  {
   "cell_type": "code",
   "execution_count": 6,
   "source": [
    "# Get a sample warning\n",
    "sample_warning = mp.get_warnings()[0]"
   ],
   "outputs": [],
   "metadata": {}
  },
  {
   "cell_type": "code",
   "execution_count": 7,
   "source": [
    "# Check the details\n",
    "sample_warning.test, sample_warning.description, sample_warning.priority"
   ],
   "outputs": [
    {
     "output_type": "execute_result",
     "data": {
      "text/plain": [
       "('Missingness Prediction',\n",
       " 'Found 9 features with prediction performance of missingness above threshold (0.8).',\n",
       " <Priority.P2: 2>)"
      ]
     },
     "metadata": {},
     "execution_count": 7
    }
   ],
   "metadata": {}
  },
  {
   "cell_type": "code",
   "execution_count": 8,
   "source": [
    "# Retrieve the relevant data from the warning\n",
    "sample_warning_data = sample_warning.data"
   ],
   "outputs": [],
   "metadata": {}
  },
  {
   "cell_type": "markdown",
   "source": [
    "## Full Test Suite\n",
    "In this section, you will find a detailed overview of the available tests in the duplicates module of ydata_quality."
   ],
   "metadata": {}
  },
  {
   "cell_type": "markdown",
   "source": [
    "### Null Count\n",
    "\n",
    "Count the number of nulls/missings for a DataFrame. Can be calculated for:\n",
    "- Specific column (entity defined) or all columns (entity=None)\n",
    "- Count of nulls (normalize=False) or ratio of rows (normalize=True)"
   ],
   "metadata": {}
  },
  {
   "cell_type": "code",
   "execution_count": 9,
   "source": [
    "mp.null_count()"
   ],
   "outputs": [
    {
     "output_type": "execute_result",
     "data": {
      "text/plain": [
       "lg        65\n",
       "rbi       12\n",
       "sb       250\n",
       "cs      4525\n",
       "so      1305\n",
       "ibb     7528\n",
       "hbp      377\n",
       "sh       960\n",
       "sf      7390\n",
       "gidp    5272\n",
       "dtype: int64"
      ]
     },
     "metadata": {},
     "execution_count": 9
    }
   ],
   "metadata": {}
  },
  {
   "cell_type": "code",
   "execution_count": 10,
   "source": [
    "mp.nulls_higher_than(th=0.1)"
   ],
   "outputs": [
    {
     "output_type": "execute_result",
     "data": {
      "text/plain": [
       "cs      0.208535\n",
       "ibb     0.346928\n",
       "sf      0.340569\n",
       "gidp    0.242961\n",
       "dtype: float64"
      ]
     },
     "metadata": {},
     "execution_count": 10
    }
   ],
   "metadata": {}
  },
  {
   "cell_type": "markdown",
   "source": [
    "## Correlation of Missings\n",
    "Calculates the correlation between missing feature values. High correlation between missing values signals that data absence may not be completely at random. Is provided as:\n",
    "- Missing Correlations: full matrix of correlations between missing feature values;\n",
    "- High Missing Correlations: missing correlations filtered by a given threshold."
   ],
   "metadata": {}
  },
  {
   "cell_type": "code",
   "execution_count": 11,
   "source": [
    "mp.missing_correlations()"
   ],
   "outputs": [
    {
     "output_type": "execute_result",
     "data": {
      "text/html": [
       "<div>\n",
       "<style scoped>\n",
       "    .dataframe tbody tr th:only-of-type {\n",
       "        vertical-align: middle;\n",
       "    }\n",
       "\n",
       "    .dataframe tbody tr th {\n",
       "        vertical-align: top;\n",
       "    }\n",
       "\n",
       "    .dataframe thead th {\n",
       "        text-align: right;\n",
       "    }\n",
       "</style>\n",
       "<table border=\"1\" class=\"dataframe\">\n",
       "  <thead>\n",
       "    <tr style=\"text-align: right;\">\n",
       "      <th></th>\n",
       "      <th>lg</th>\n",
       "      <th>rbi</th>\n",
       "      <th>sb</th>\n",
       "      <th>cs</th>\n",
       "      <th>so</th>\n",
       "      <th>ibb</th>\n",
       "      <th>hbp</th>\n",
       "      <th>sh</th>\n",
       "      <th>sf</th>\n",
       "      <th>gidp</th>\n",
       "    </tr>\n",
       "  </thead>\n",
       "  <tbody>\n",
       "    <tr>\n",
       "      <th>lg</th>\n",
       "      <td>1.000000</td>\n",
       "      <td>-0.001289</td>\n",
       "      <td>-0.005918</td>\n",
       "      <td>-0.028136</td>\n",
       "      <td>-0.013866</td>\n",
       "      <td>0.075205</td>\n",
       "      <td>0.412222</td>\n",
       "      <td>0.254769</td>\n",
       "      <td>0.076273</td>\n",
       "      <td>0.096756</td>\n",
       "    </tr>\n",
       "    <tr>\n",
       "      <th>rbi</th>\n",
       "      <td>-0.001289</td>\n",
       "      <td>1.000000</td>\n",
       "      <td>-0.002540</td>\n",
       "      <td>0.045827</td>\n",
       "      <td>0.092990</td>\n",
       "      <td>0.032274</td>\n",
       "      <td>0.176903</td>\n",
       "      <td>0.109332</td>\n",
       "      <td>0.032732</td>\n",
       "      <td>0.041522</td>\n",
       "    </tr>\n",
       "    <tr>\n",
       "      <th>sb</th>\n",
       "      <td>-0.005918</td>\n",
       "      <td>-0.002540</td>\n",
       "      <td>1.000000</td>\n",
       "      <td>0.210326</td>\n",
       "      <td>-0.027310</td>\n",
       "      <td>0.148125</td>\n",
       "      <td>0.811914</td>\n",
       "      <td>0.501793</td>\n",
       "      <td>0.150227</td>\n",
       "      <td>0.190571</td>\n",
       "    </tr>\n",
       "    <tr>\n",
       "      <th>cs</th>\n",
       "      <td>-0.028136</td>\n",
       "      <td>0.045827</td>\n",
       "      <td>0.210326</td>\n",
       "      <td>1.000000</td>\n",
       "      <td>0.491380</td>\n",
       "      <td>0.704262</td>\n",
       "      <td>0.201750</td>\n",
       "      <td>0.383291</td>\n",
       "      <td>0.714259</td>\n",
       "      <td>0.626763</td>\n",
       "    </tr>\n",
       "    <tr>\n",
       "      <th>so</th>\n",
       "      <td>-0.013866</td>\n",
       "      <td>0.092990</td>\n",
       "      <td>-0.027310</td>\n",
       "      <td>0.491380</td>\n",
       "      <td>1.000000</td>\n",
       "      <td>0.345846</td>\n",
       "      <td>0.009386</td>\n",
       "      <td>0.072834</td>\n",
       "      <td>0.350768</td>\n",
       "      <td>0.446525</td>\n",
       "    </tr>\n",
       "    <tr>\n",
       "      <th>ibb</th>\n",
       "      <td>0.075205</td>\n",
       "      <td>0.032274</td>\n",
       "      <td>0.148125</td>\n",
       "      <td>0.704262</td>\n",
       "      <td>0.345846</td>\n",
       "      <td>1.000000</td>\n",
       "      <td>0.181698</td>\n",
       "      <td>0.295190</td>\n",
       "      <td>0.986003</td>\n",
       "      <td>0.776136</td>\n",
       "    </tr>\n",
       "    <tr>\n",
       "      <th>hbp</th>\n",
       "      <td>0.412222</td>\n",
       "      <td>0.176903</td>\n",
       "      <td>0.811914</td>\n",
       "      <td>0.201750</td>\n",
       "      <td>0.009386</td>\n",
       "      <td>0.181698</td>\n",
       "      <td>1.000000</td>\n",
       "      <td>0.614607</td>\n",
       "      <td>0.184284</td>\n",
       "      <td>0.233897</td>\n",
       "    </tr>\n",
       "    <tr>\n",
       "      <th>sh</th>\n",
       "      <td>0.254769</td>\n",
       "      <td>0.109332</td>\n",
       "      <td>0.501793</td>\n",
       "      <td>0.383291</td>\n",
       "      <td>0.072834</td>\n",
       "      <td>0.295190</td>\n",
       "      <td>0.614607</td>\n",
       "      <td>1.000000</td>\n",
       "      <td>0.299381</td>\n",
       "      <td>0.379781</td>\n",
       "    </tr>\n",
       "    <tr>\n",
       "      <th>sf</th>\n",
       "      <td>0.076273</td>\n",
       "      <td>0.032732</td>\n",
       "      <td>0.150227</td>\n",
       "      <td>0.714259</td>\n",
       "      <td>0.350768</td>\n",
       "      <td>0.986003</td>\n",
       "      <td>0.184284</td>\n",
       "      <td>0.299381</td>\n",
       "      <td>1.000000</td>\n",
       "      <td>0.787165</td>\n",
       "    </tr>\n",
       "    <tr>\n",
       "      <th>gidp</th>\n",
       "      <td>0.096756</td>\n",
       "      <td>0.041522</td>\n",
       "      <td>0.190571</td>\n",
       "      <td>0.626763</td>\n",
       "      <td>0.446525</td>\n",
       "      <td>0.776136</td>\n",
       "      <td>0.233897</td>\n",
       "      <td>0.379781</td>\n",
       "      <td>0.787165</td>\n",
       "      <td>1.000000</td>\n",
       "    </tr>\n",
       "  </tbody>\n",
       "</table>\n",
       "</div>"
      ],
      "text/plain": [
       "            lg       rbi        sb        cs        so       ibb       hbp  \\\n",
       "lg    1.000000 -0.001289 -0.005918 -0.028136 -0.013866  0.075205  0.412222   \n",
       "rbi  -0.001289  1.000000 -0.002540  0.045827  0.092990  0.032274  0.176903   \n",
       "sb   -0.005918 -0.002540  1.000000  0.210326 -0.027310  0.148125  0.811914   \n",
       "cs   -0.028136  0.045827  0.210326  1.000000  0.491380  0.704262  0.201750   \n",
       "so   -0.013866  0.092990 -0.027310  0.491380  1.000000  0.345846  0.009386   \n",
       "ibb   0.075205  0.032274  0.148125  0.704262  0.345846  1.000000  0.181698   \n",
       "hbp   0.412222  0.176903  0.811914  0.201750  0.009386  0.181698  1.000000   \n",
       "sh    0.254769  0.109332  0.501793  0.383291  0.072834  0.295190  0.614607   \n",
       "sf    0.076273  0.032732  0.150227  0.714259  0.350768  0.986003  0.184284   \n",
       "gidp  0.096756  0.041522  0.190571  0.626763  0.446525  0.776136  0.233897   \n",
       "\n",
       "            sh        sf      gidp  \n",
       "lg    0.254769  0.076273  0.096756  \n",
       "rbi   0.109332  0.032732  0.041522  \n",
       "sb    0.501793  0.150227  0.190571  \n",
       "cs    0.383291  0.714259  0.626763  \n",
       "so    0.072834  0.350768  0.446525  \n",
       "ibb   0.295190  0.986003  0.776136  \n",
       "hbp   0.614607  0.184284  0.233897  \n",
       "sh    1.000000  0.299381  0.379781  \n",
       "sf    0.299381  1.000000  0.787165  \n",
       "gidp  0.379781  0.787165  1.000000  "
      ]
     },
     "metadata": {},
     "execution_count": 11
    }
   ],
   "metadata": {}
  },
  {
   "cell_type": "code",
   "execution_count": 12,
   "source": [
    "mp.high_missing_correlations(th=0.8)"
   ],
   "outputs": [
    {
     "output_type": "execute_result",
     "data": {
      "text/plain": [
       "features\n",
       "ibb_sf    0.986003\n",
       "hbp_sb    0.811914\n",
       "Name: missings_corr, dtype: float64"
      ]
     },
     "metadata": {},
     "execution_count": 12
    }
   ],
   "metadata": {}
  },
  {
   "cell_type": "markdown",
   "source": [
    "## Prediction of Missingness\n",
    "The ability to easily predict missing values for a given feature with a baseline model indicates that the process causing the missing values may not be completely at random."
   ],
   "metadata": {}
  },
  {
   "cell_type": "code",
   "execution_count": 13,
   "source": [
    "mp.predict_missings(['so', 'lg'])"
   ],
   "outputs": [
    {
     "output_type": "execute_result",
     "data": {
      "text/plain": [
       "so    0.914115\n",
       "lg    0.993898\n",
       "Name: predict_missings, dtype: float64"
      ]
     },
     "metadata": {},
     "execution_count": 13
    }
   ],
   "metadata": {}
  },
  {
   "cell_type": "code",
   "execution_count": 14,
   "source": [
    "mp.predict_missings()"
   ],
   "outputs": [
    {
     "output_type": "execute_result",
     "data": {
      "text/plain": [
       "lg      0.993898\n",
       "rbi     0.722921\n",
       "sb      0.964801\n",
       "cs      0.832594\n",
       "so      0.914115\n",
       "ibb     0.866497\n",
       "hbp     0.963099\n",
       "sh      0.963187\n",
       "sf      0.866573\n",
       "gidp    0.860869\n",
       "Name: predict_missings, dtype: float64"
      ]
     },
     "metadata": {},
     "execution_count": 14
    }
   ],
   "metadata": {}
  },
  {
   "cell_type": "markdown",
   "source": [
    "## Performance Drop\n",
    "Testing the performance drop when the feature values are missing enables the Data Scientists to better understand the downstream impact of missing values.\n",
    "When normalized, the performance is measured as a ratio over a baseline performance metric achieved for the whole dataset."
   ],
   "metadata": {}
  },
  {
   "cell_type": "code",
   "execution_count": 15,
   "source": [
    "mp.target = 'ab'\n",
    "mp.performance_drop(normalize=True)"
   ],
   "outputs": [
    {
     "output_type": "execute_result",
     "data": {
      "text/html": [
       "<div>\n",
       "<style scoped>\n",
       "    .dataframe tbody tr th:only-of-type {\n",
       "        vertical-align: middle;\n",
       "    }\n",
       "\n",
       "    .dataframe tbody tr th {\n",
       "        vertical-align: top;\n",
       "    }\n",
       "\n",
       "    .dataframe thead th {\n",
       "        text-align: right;\n",
       "    }\n",
       "</style>\n",
       "<table border=\"1\" class=\"dataframe\">\n",
       "  <thead>\n",
       "    <tr style=\"text-align: right;\">\n",
       "      <th></th>\n",
       "      <th>lg</th>\n",
       "      <th>rbi</th>\n",
       "      <th>sb</th>\n",
       "      <th>cs</th>\n",
       "      <th>so</th>\n",
       "      <th>ibb</th>\n",
       "      <th>hbp</th>\n",
       "      <th>sh</th>\n",
       "      <th>sf</th>\n",
       "      <th>gidp</th>\n",
       "    </tr>\n",
       "  </thead>\n",
       "  <tbody>\n",
       "    <tr>\n",
       "      <th>missing</th>\n",
       "      <td>1.038829</td>\n",
       "      <td>1.046662</td>\n",
       "      <td>1.044594</td>\n",
       "      <td>1.039700</td>\n",
       "      <td>1.040884</td>\n",
       "      <td>1.040173</td>\n",
       "      <td>1.042719</td>\n",
       "      <td>1.042521</td>\n",
       "      <td>1.039939</td>\n",
       "      <td>1.039254</td>\n",
       "    </tr>\n",
       "    <tr>\n",
       "      <th>valued</th>\n",
       "      <td>0.999868</td>\n",
       "      <td>0.999964</td>\n",
       "      <td>0.999508</td>\n",
       "      <td>0.989739</td>\n",
       "      <td>0.997459</td>\n",
       "      <td>0.979011</td>\n",
       "      <td>0.999218</td>\n",
       "      <td>0.998125</td>\n",
       "      <td>0.979836</td>\n",
       "      <td>0.987577</td>\n",
       "    </tr>\n",
       "  </tbody>\n",
       "</table>\n",
       "</div>"
      ],
      "text/plain": [
       "               lg       rbi        sb        cs        so       ibb       hbp  \\\n",
       "missing  1.038829  1.046662  1.044594  1.039700  1.040884  1.040173  1.042719   \n",
       "valued   0.999868  0.999964  0.999508  0.989739  0.997459  0.979011  0.999218   \n",
       "\n",
       "               sh        sf      gidp  \n",
       "missing  1.042521  1.039939  1.039254  \n",
       "valued   0.998125  0.979836  0.987577  "
      ]
     },
     "metadata": {},
     "execution_count": 15
    }
   ],
   "metadata": {}
  },
  {
   "cell_type": "markdown",
   "source": [
    "### Advanced - Custom Warning\n",
    "For custom warnings, we can implement a QualityWarning from scratch based on the outputs of the Performance Drop and store in the original MissingsProfiler engine."
   ],
   "metadata": {}
  },
  {
   "cell_type": "code",
   "execution_count": 16,
   "source": [
    "from ydata_quality.core import QualityWarning"
   ],
   "outputs": [],
   "metadata": {}
  },
  {
   "cell_type": "code",
   "execution_count": 17,
   "source": [
    "# Define a new custom QualityWarning\n",
    "new_warning = QualityWarning(\n",
    "    category='Missings',\n",
    "    test='Performance Drop',\n",
    "    description='Found severe  differences in performance between missing and non-missing feature values.',\n",
    "    priority=2, # 0 critical, 1 heavy, 2 medium, 3 minor \n",
    "    data=mp.performance_drop(normalize=True),\n",
    ")"
   ],
   "outputs": [],
   "metadata": {}
  },
  {
   "cell_type": "code",
   "execution_count": 18,
   "source": [
    "# Store to the original data quality engine\n",
    "mp.store_warning(new_warning)"
   ],
   "outputs": [],
   "metadata": {}
  },
  {
   "cell_type": "code",
   "execution_count": 19,
   "source": [
    "# Retrieve the custom warning from the Performance Drop\n",
    "perf_drop_warnings = mp.get_warnings(test='Performance Drop')"
   ],
   "outputs": [],
   "metadata": {}
  }
 ],
 "metadata": {
  "kernelspec": {
   "name": "python3",
   "display_name": "Python 3.8.11 64-bit ('DQ': conda)"
  },
  "language_info": {
   "codemirror_mode": {
    "name": "ipython",
    "version": 3
   },
   "file_extension": ".py",
   "mimetype": "text/x-python",
   "name": "python",
   "nbconvert_exporter": "python",
   "pygments_lexer": "ipython3",
   "version": "3.8.11"
  },
  "metadata": {
   "interpreter": {
    "hash": "cdc2bce73c2a9ac283f602628cabf735dbe06c4ee87a7849fc5f3d1177c8f304"
   }
  },
  "orig_nbformat": 2,
  "interpreter": {
   "hash": "e255f3ac955330aecee05fff6b7b15b68f4bd4cf0e9481cf0822c8a2e5228d43"
  }
 },
 "nbformat": 4,
 "nbformat_minor": 2
}