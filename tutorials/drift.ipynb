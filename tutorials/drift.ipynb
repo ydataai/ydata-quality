{
 "cells": [
  {
   "cell_type": "markdown",
   "source": [
    "# YData Quality - Data Drift Tutorial\n",
    "Time-to-Value: 10 minutes\n",
    "\n",
    "This notebook provides a tutorial for the ydata_quality package funcionality for drift analysis.\n",
    "\n",
    "**Structure:**\n",
    "\n",
    "0. A data drifting introduction\n",
    "1. Load dataset\n",
    "2. Train and wrap example model\n",
    "3. Distort dataset\n",
    "4. Instantiate the Data Quality engine\n",
    "5. Run the quality checks\n",
    "6. Assess the warnings\n",
    "7. (Extra) Detailed overview"
   ],
   "metadata": {}
  },
  {
   "cell_type": "markdown",
   "source": [
    "## A data drifting introduction\n",
    "### What is data drift?\n",
    "Data drift is a broad term used for differences in the data observed by a model during training and prediction time.\n",
    "\n",
    "These divergences are part of most real world settings and can hinder the task of learning a mapping from input (features) space to output space (labels).\n",
    "Sometimes these divergences are intended, such as in __[Domain Adaptation](https://en.wikipedia.org/wiki/Domain_adaptation)__ applications where the success is defined by the model's ability to learn from a rich, source dataset and generalize this capacity to a target dataset where labelled data can be scarce or unavailable.\n",
    "On other cases, the differences are unintended and reflect the dynamic nature of the underlying use case (e.g. stock prices) or are just a reflex of the difficulty of creating a representative dataset of the target population.\n",
    "\n",
    "For the three scenarios presented above, drift is an important concept and a pivotal aspect of Data Quality.\n",
    "***\n",
    "### Types of data drift\n",
    "We identify and diagnose the three main types of data drift:\n",
    "*  **Covariate, input drift (X)**\n",
    "    *  Drift detected in the independent features between a reference sample (e.g. train data) and a target sample (p.e. test data). In an ideal scenario we expect $X_{ref}$ = $X_{target}$, which means that, statistically, input data from the target appears to be generated from the same distribution as the reference data.\n",
    "*  **Label drift (Y)**\n",
    "    *  Drift detected in the dependent feature between a reference sample and a target sample. In an ideal scenario we expect $Y_{ref}$ = $Y_{target}$, which means that, statistically, labels from the reference sample appear to be generated from the same distribution.\n",
    "*  **Concept drift (Y|X)**\n",
    "    *  Drift detected in the input/output mappings defined by a model between a reference and a target sample. This gains more relevance if we can first establish that there is no covariate or label drift. In an ideal scenario we expect $Y_{ref}|X_{ref}$ = $Y_{target}|X_{target}$, which means that, statistically, the model appears to follow the same mapping process in predicting the labels from the reference samples.\n",
    "***\n",
    "### How do we detect data drift\n",
    "There are many strategies to detect data drift. Some strategies rely on fitting a classifier to distinguish which observations come from a reference sample and define the existence of drift based on the performance of this classifier (a bad performance suggests a low data drift). Other strategies rely on empirical distance metrics like the two sample __[Maximum Mean Discrepancy](https://jmlr.csail.mit.edu/papers/volume13/gretton12a/gretton12a.pdf)__ or on classical statistical tests and hypothesis testing.\n",
    "\n",
    "To depend on the least assumptions, we choose the latter alternative. For all numerical features we apply a __[Kolmogorov-Smirnov test](https://en.wikipedia.org/wiki/Kolmogorov%E2%80%93Smirnov_test)__ and for categorical data we use the __[Chi-Squared test](https://en.wikipedia.org/wiki/Chi-squared_test)__. The  standard p-value thresholds are used to determine the outcome of the performed tests. For concept drift we abstain from trying to fit a model and evaluating drift with that model, because that is no guarantee of similar behaviour by a user's model. For this reason we accomodate user provided models and analyse the model behaviour for the intended task which should provide the most useful insights.\n",
    "\n",
    "Since input data (X) is often multi-dimensional, we agglomerate the results of multiple statistical tests by applying a __[Bonferroni correction](https://en.wikipedia.org/wiki/Bonferroni_correction)__ to the p-value. This allows for a global assessment of drift from many individual statistical tests. So, when we say that there is covariate drift, we mean that at least one of the features has failed a statistical test with higher likelihood than our Bonferroni corrected threshold.\n"
   ],
   "metadata": {}
  },
  {
   "cell_type": "markdown",
   "source": [
    "# Drift engine demo and tutorial\n",
    "## Imports"
   ],
   "metadata": {}
  },
  {
   "cell_type": "code",
   "execution_count": 1,
   "source": [
    "from sklearn import datasets\n",
    "from sklearn.tree import DecisionTreeClassifier\n",
    "from ydata_quality.drift import DriftAnalyser, ModelWrapper\n",
    "import random"
   ],
   "outputs": [],
   "metadata": {}
  },
  {
   "cell_type": "markdown",
   "source": [
    "## Load the example dataset\n",
    "We will use the wine dataset available from the sklearn package."
   ],
   "metadata": {}
  },
  {
   "cell_type": "code",
   "execution_count": 2,
   "source": [
    "df = datasets.load_wine(as_frame=True)['frame']\n",
    "df['target'] = df['target'].apply(str)  # Forcing categorical type inferral on target feature"
   ],
   "outputs": [],
   "metadata": {}
  },
  {
   "cell_type": "markdown",
   "source": [
    "## Train and wrap example model\n",
    "We will train a simple classifier on the full dataset and wrap it with the ModelWrapper class just to demonstrate the engine's concept drift test."
   ],
   "metadata": {}
  },
  {
   "cell_type": "code",
   "execution_count": 3,
   "source": [
    "# First we train a classifier\n",
    "x = df.loc[:, df.columns != 'target']\n",
    "y = df['target']\n",
    "clf = DecisionTreeClassifier(random_state=0)\n",
    "clf.fit(x, y)\n",
    "\n",
    "# Now we wrap it by directly instantiating the ModelWrapper class.\n",
    "# The wrapper will handle using __call__ or predict method depending on the passed model\n",
    "wrapped_model = ModelWrapper(clf)"
   ],
   "outputs": [],
   "metadata": {}
  },
  {
   "cell_type": "markdown",
   "source": [
    "## Distort the original dataset\n",
    "Apply transformations to highlight the data quality functionalities."
   ],
   "metadata": {}
  },
  {
   "cell_type": "code",
   "execution_count": 4,
   "source": [
    "def create_sample(df, frac=0.2):\n",
    "    # Forge a sample\n",
    "    sample = df.sample(frac=frac)\n",
    "    # Distort sample values\n",
    "    sample['alcohol'] = sample['alcohol'] + 0.8\n",
    "    sample['target'] = random.choices(['0', '1', '2'], weights=[0.7, 0.2, 0.1], k=len(sample))\n",
    "    return sample\n",
    "\n",
    "sample = create_sample(df)"
   ],
   "outputs": [],
   "metadata": {}
  },
  {
   "cell_type": "markdown",
   "source": [
    "## Create the engine\n",
    "Each engine contains the checks and tests for each suite. To create a DriftAnalyser, you provide:\n",
    "- ref: reference DataFrame, DataFrame that we will assume as the reference for the modelled population\n",
    "- sample (optional): A test sample which we will compare against the reference. It should have the same schema as the reference dataframe, although the label column can always be optional for this sample (even when provided for the reference)\n",
    "- label (optional): A string defining the label feature (will be searched for both in the reference and test samples)\n",
    "- model (optional): A callable that inherits or directly instantiates ModelWrapper. This is supposed to wrap a label prediction model that consumes the provided sample covariates as input\n",
    "- holdout (optional): A float defining the fraction of rows from the reference sample that are held-out for the reference tests. A 20% random subsample is taken by default.\n",
    "- random_state (optional): Integer used as the Random Number Generator seed, used to guarantee reproducibility of random sample splits. Defaults to None (no reproducibility). "
   ],
   "metadata": {}
  },
  {
   "cell_type": "code",
   "execution_count": 5,
   "source": [
    "da = DriftAnalyser(ref=df, sample=sample, label='target', model=wrapped_model, random_state=1)"
   ],
   "outputs": [],
   "metadata": {}
  },
  {
   "cell_type": "markdown",
   "source": [
    "### Full Evaluation\n",
    "The easiest way to assess the data quality analysis is to run `.evaluate()` which returns a list of warnings for each quality check. "
   ],
   "metadata": {}
  },
  {
   "cell_type": "code",
   "execution_count": 6,
   "source": [
    "results = da.evaluate()"
   ],
   "outputs": [
    {
     "output_type": "display_data",
     "data": {
      "text/plain": [
       "<Figure size 432x288 with 1 Axes>"
      ],
      "image/png": "[encoded data removed]"
     },
     "metadata": {
      "needs_background": "light"
     }
    },
    {
     "output_type": "display_data",
     "data": {
      "text/plain": [
       "<Figure size 432x288 with 1 Axes>"
      ],
      "image/png": "[encoded data removed]"
     },
     "metadata": {
      "needs_background": "light"
     }
    },
    {
     "output_type": "stream",
     "name": "stdout",
     "text": [
      "[CONCEPT DRIFT] Concept drift was not detected between the reference and the test samples.\n"
     ]
    }
   ],
   "metadata": {}
  },
  {
   "cell_type": "markdown",
   "source": [
    "## Check the status\n",
    "After running the data quality checks, you can check the warnings for each individual test. The warnings are suited by priority and have additional details that can provide better insights for Data Scientists."
   ],
   "metadata": {}
  },
  {
   "cell_type": "code",
   "execution_count": 7,
   "source": [
    "da.report()"
   ],
   "outputs": [
    {
     "output_type": "stream",
     "name": "stdout",
     "text": [
      "[SAMPLE COVARIATE DRIFT] 1 features accused drift in the sample test. The covariates of the test sample do not appear to be representative of the reference sample. (Priority 2: usage allowed, limited human intelligibility)\n",
      "[SAMPLE LABEL DRIFT] The label accused drift in the sample test with a p-test of 0.0000, which is under the threshold 0.05. The label of the test sample does not appear to be representative of the reference sample. (Priority 2: usage allowed, limited human intelligibility)\n"
     ]
    }
   ],
   "metadata": {}
  },
  {
   "cell_type": "markdown",
   "source": [
    "## Full Test Suite\n",
    "In this section, you will find a detailed overview of the available tests in the Data Drift module of ydata_quality."
   ],
   "metadata": {}
  },
  {
   "cell_type": "markdown",
   "source": [
    "### Reference sample covariate drift\n",
    "\n",
    "In this test we look for evidence of the reference sample covariates being representative of the underlying population.\n",
    "A holdout is taken (20% by default), and increasing size random slices of data are taken from the leftover 80% data.\n",
    "The leftover slices are tested against the holdout in attempt to provide drift evidence.\n",
    "\n",
    "Due to the complexity of this strategy, we provide the tooling for Data Scientists to infer the healthiness of the reference sample and avoid drawing conclusions automatically based on heuristics. An healthy indicator of data quality would be a monotonic increase of the percentage of features with no drift evidence and increasing individual p-values for the least performant tests, as the leftover slices are increased."
   ],
   "metadata": {}
  },
  {
   "cell_type": "code",
   "execution_count": 8,
   "source": [
    "ref_cov_drift_out = da.ref_covariate_drift()"
   ],
   "outputs": [
    {
     "output_type": "display_data",
     "data": {
      "text/plain": [
       "<Figure size 432x288 with 1 Axes>"
      ],
      "image/png": "[encoded data removed]"
     },
     "metadata": {
      "needs_background": "light"
     }
    }
   ],
   "metadata": {}
  },
  {
   "cell_type": "markdown",
   "source": [
    "### Reference sample label drift\n",
    "\n",
    "In this test we look for evidence of the reference sample labels being representative of the underlying population.\n",
    "The same holdout and undersampling strategy from the previous test are used and, since now we have a univariate test, only the p-values for the increasing leftover slices are shown."
   ],
   "metadata": {}
  },
  {
   "cell_type": "code",
   "execution_count": 9,
   "source": [
    "# Here we notice the effects of changing all labels in the test sample to a fixed class\n",
    "ref_label_drift_out = da.ref_label_drift()"
   ],
   "outputs": [
    {
     "output_type": "display_data",
     "data": {
      "text/plain": [
       "<Figure size 432x288 with 1 Axes>"
      ],
      "image/png": "[encoded data removed]"
     },
     "metadata": {
      "needs_background": "light"
     }
    }
   ],
   "metadata": {}
  },
  {
   "cell_type": "markdown",
   "source": [
    "### Test sample covariate drift\n",
    "\n",
    "In this test we look for evidence of the test sample covariates drifting from the reference sample.\n",
    "The full reference sample is used in modelling the distribution against which we evaluate the test sample.\n",
    "\n",
    "In the multivariate case, Bonferroni correction for the p-value is used in order to mitigate eventual false positives in the drift diagnosis.\n",
    "If any feature from the covariates accuses drift, we raise a warning for the full sample.\n",
    "In the case that no drift was detected, but there were failing tests due to other data issues (e.g. different support on categoricals), we will raise your attention with a lower priority warning and with recommendations (usually this is due to too small test samples)."
   ],
   "metadata": {}
  },
  {
   "cell_type": "code",
   "execution_count": 10,
   "source": [
    "# As expected the corrupted alcohol feature is detected after the corruption step, a small boost of 0.8 vol(%) triggered this alarm\n",
    "sample_cov_drift_out = da.sample_covariate_drift()\n",
    "sample_cov_drift_out.head()"
   ],
   "outputs": [
    {
     "output_type": "execute_result",
     "data": {
      "text/plain": [
       "                            Statistic Statistic Value   p-value Verdict\n",
       "alcohol            Kolmogorov-Smirnov        0.396692  0.000093   Drift\n",
       "malic_acid         Kolmogorov-Smirnov        0.062734  0.999092      OK\n",
       "ash                Kolmogorov-Smirnov        0.185393  0.222873      OK\n",
       "alcalinity_of_ash  Kolmogorov-Smirnov        0.049001  0.999993      OK\n",
       "magnesium          Kolmogorov-Smirnov        0.136080  0.584177      OK"
      ],
      "text/html": [
       "<div>\n",
       "<style scoped>\n",
       "    .dataframe tbody tr th:only-of-type {\n",
       "        vertical-align: middle;\n",
       "    }\n",
       "\n",
       "    .dataframe tbody tr th {\n",
       "        vertical-align: top;\n",
       "    }\n",
       "\n",
       "    .dataframe thead th {\n",
       "        text-align: right;\n",
       "    }\n",
       "</style>\n",
       "<table border=\"1\" class=\"dataframe\">\n",
       "  <thead>\n",
       "    <tr style=\"text-align: right;\">\n",
       "      <th></th>\n",
       "      <th>Statistic</th>\n",
       "      <th>Statistic Value</th>\n",
       "      <th>p-value</th>\n",
       "      <th>Verdict</th>\n",
       "    </tr>\n",
       "  </thead>\n",
       "  <tbody>\n",
       "    <tr>\n",
       "      <th>alcohol</th>\n",
       "      <td>Kolmogorov-Smirnov</td>\n",
       "      <td>0.396692</td>\n",
       "      <td>0.000093</td>\n",
       "      <td>Drift</td>\n",
       "    </tr>\n",
       "    <tr>\n",
       "      <th>malic_acid</th>\n",
       "      <td>Kolmogorov-Smirnov</td>\n",
       "      <td>0.062734</td>\n",
       "      <td>0.999092</td>\n",
       "      <td>OK</td>\n",
       "    </tr>\n",
       "    <tr>\n",
       "      <th>ash</th>\n",
       "      <td>Kolmogorov-Smirnov</td>\n",
       "      <td>0.185393</td>\n",
       "      <td>0.222873</td>\n",
       "      <td>OK</td>\n",
       "    </tr>\n",
       "    <tr>\n",
       "      <th>alcalinity_of_ash</th>\n",
       "      <td>Kolmogorov-Smirnov</td>\n",
       "      <td>0.049001</td>\n",
       "      <td>0.999993</td>\n",
       "      <td>OK</td>\n",
       "    </tr>\n",
       "    <tr>\n",
       "      <th>magnesium</th>\n",
       "      <td>Kolmogorov-Smirnov</td>\n",
       "      <td>0.136080</td>\n",
       "      <td>0.584177</td>\n",
       "      <td>OK</td>\n",
       "    </tr>\n",
       "  </tbody>\n",
       "</table>\n",
       "</div>"
      ]
     },
     "metadata": {},
     "execution_count": 10
    }
   ],
   "metadata": {}
  },
  {
   "cell_type": "markdown",
   "source": [
    "### Test sample label drift\n",
    "\n",
    "In this test we look for evidence of the test sample label drifting from the reference sample.\n",
    "The same strategy from the previous step applies.\n",
    "If the label accuses drift, we raise a warning for the test sample.\n",
    "In the case that no drift was detected, but there was a failing test due to other data issues (e.g. different support on categoricals), we will raise your attention with a lower priority warning and a recommendation (usually this is due to too small test samples)."
   ],
   "metadata": {}
  },
  {
   "cell_type": "code",
   "execution_count": 11,
   "source": [
    "sample_label_drift_out = da.sample_label_drift()\n",
    "sample_label_drift_out"
   ],
   "outputs": [
    {
     "output_type": "execute_result",
     "data": {
      "text/plain": [
       "Statistic          Chi-Squared\n",
       "Statistic Value      32.370533\n",
       "p-value               0.000000\n",
       "Verdict                  Drift\n",
       "dtype: object"
      ]
     },
     "metadata": {},
     "execution_count": 11
    }
   ],
   "metadata": {}
  },
  {
   "cell_type": "markdown",
   "source": [
    "### Test concept drift\n",
    "\n",
    "In this test we look for evidence of concept drift.\n",
    "If the provided model produces output for the test sample which appears not to be representative of the output generated from the reference sample, concept drift is detected."
   ],
   "metadata": {}
  },
  {
   "cell_type": "code",
   "execution_count": 12,
   "source": [
    "sample_concept_drift_out = da.sample_concept_drift()\n",
    "sample_concept_drift_out"
   ],
   "outputs": [
    {
     "output_type": "stream",
     "name": "stdout",
     "text": [
      "[CONCEPT DRIFT] Concept drift was not detected between the reference and the test samples.\n"
     ]
    },
    {
     "output_type": "execute_result",
     "data": {
      "text/plain": [
       "Statistic          Chi-Squared\n",
       "Statistic Value       1.552838\n",
       "p-value               0.670130\n",
       "Verdict                     OK\n",
       "dtype: object"
      ]
     },
     "metadata": {},
     "execution_count": 12
    }
   ],
   "metadata": {}
  }
 ],
 "metadata": {
  "interpreter": {
   "hash": "e255f3ac955330aecee05fff6b7b15b68f4bd4cf0e9481cf0822c8a2e5228d43"
  },
  "kernelspec": {
   "name": "python3",
   "display_name": "Python 3.8.11 64-bit ('DQ': conda)"
  },
  "language_info": {
   "codemirror_mode": {
    "name": "ipython",
    "version": 3
   },
   "file_extension": ".py",
   "mimetype": "text/x-python",
   "name": "python",
   "nbconvert_exporter": "python",
   "pygments_lexer": "ipython3",
   "version": "3.8.11"
  },
  "metadata": {
   "interpreter": {
    "hash": "cdc2bce73c2a9ac283f602628cabf735dbe06c4ee87a7849fc5f3d1177c8f304"
   }
  },
  "orig_nbformat": 2
 },
 "nbformat": 4,
 "nbformat_minor": 2
}